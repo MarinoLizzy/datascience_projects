{
 "cells": [
  {
   "cell_type": "raw",
   "id": "b1c13c80",
   "metadata": {
    "vscode": {
     "languageId": "raw"
    }
   },
   "source": [
    "---\n",
    "title: \"Prediction Problem Final Report: STAT 303-3, Spring 2025\"\n",
    "author: \"Lizzy Marino\"\n",
    "format: \n",
    "  html:\n",
    "    toc: true\n",
    "    toc-title: \"Contents\"\n",
    "    toc-depth: 4\n",
    "    code-fold: show\n",
    "    self-contained: true\n",
    "    html-math-method: mathml\n",
    "jupyter: python3\n",
    "---"
   ]
  },
  {
   "cell_type": "markdown",
   "id": "9d4b9670",
   "metadata": {},
   "source": [
    "## Instructions {-}\n",
    "\n",
    "1. This notebook serves as the template for your code and final report on the Prediction Problem.\n",
    "\n",
    "2. You may modify the template as needed, but it should include all required sections and information listed below.\n",
    "\n",
    "3. Please make sure to include your name at the top of the assignment."
   ]
  },
  {
   "cell_type": "code",
   "execution_count": 71,
   "id": "a6fdcf11",
   "metadata": {},
   "outputs": [],
   "source": [
    "import pandas as pd\n",
    "import numpy as np\n",
    "from sklearn.metrics import accuracy_score, roc_auc_score #precision_recall_curve, roc_curve, auc, \n",
    "from sklearn.preprocessing import OneHotEncoder, StandardScaler, PolynomialFeatures, KBinsDiscretizer\n",
    "from sklearn.model_selection import KFold, train_test_split, GridSearchCV, cross_val_score, cross_val_predict, RepeatedKFold\n",
    "from sklearn.neighbors import KNeighborsClassifier\n",
    "from sklearn.pipeline import Pipeline\n",
    "from sklearn.compose import ColumnTransformer\n",
    "from sklearn.impute import SimpleImputer\n",
    "from sklearn.preprocessing import PowerTransformer\n",
    "from sklearn.linear_model import LogisticRegression\n",
    "from sklearn.ensemble import BaggingClassifier, StackingClassifier\n",
    "from lightgbm import LGBMClassifier\n",
    "from skopt.space import Integer, Categorical, Real\n",
    "from skopt import BayesSearchCV"
   ]
  },
  {
   "cell_type": "markdown",
   "id": "3b5d4b16",
   "metadata": {},
   "source": [
    "## 1) Model Setup\n",
    "\n",
    "This section should include any **data preprocessing** (e.g., encoding, scaling) and **feature engineering** you applied specifically for the final model.\n"
   ]
  },
  {
   "cell_type": "markdown",
   "id": "0fc3eeb1",
   "metadata": {},
   "source": [
    "I'll be making a stacking classifier that consists of:\n",
    "- KNN\n",
    "- Logistic regression\n",
    "- Bagging\n",
    "- Boosting"
   ]
  },
  {
   "cell_type": "code",
   "execution_count": 56,
   "id": "833231b8",
   "metadata": {},
   "outputs": [],
   "source": [
    "X = pd.read_csv('../Datasets/train_X.csv')\n",
    "y_csv = pd.read_csv('../Datasets/train_y.csv')\n",
    "y = y_csv['ON_TIME_AND_COMPLETE']\n",
    "\n",
    "X_train, X_test, y_train, y_test = train_test_split(X, y, test_size=0.2, random_state=42)"
   ]
  },
  {
   "cell_type": "markdown",
   "id": "f1f13bf0",
   "metadata": {},
   "source": [
    "**KNN preprocessing**"
   ]
  },
  {
   "cell_type": "code",
   "execution_count": 54,
   "id": "73dadf92",
   "metadata": {},
   "outputs": [],
   "source": [
    "object_cols = list(X.select_dtypes('object').columns)\n",
    "knn_preprocessor = ColumnTransformer(\n",
    "    transformers=[\n",
    "    ('impute_then_bin', Pipeline([\n",
    "        ('imputer', SimpleImputer(strategy='mean')),\n",
    "        ('binner', KBinsDiscretizer(n_bins=5, encode='ordinal', strategy='uniform'))\n",
    "    ]), ['AVERAGE_VENDOR_ORDER_CYCLE_DAYS', 'AVERAGE_ORDER_CYCLE_DAYS']),\n",
    "    ('impute', SimpleImputer(strategy = 'mean'), \n",
    "        ['AVERAGE_DAILY_DEMAND_CASES', 'AVERAGE_ORDER_CYCLE_CASES']),\n",
    "    ('binning', KBinsDiscretizer(n_bins = 5, encode = 'ordinal', strategy = 'uniform'),\n",
    "        ['GIVEN_TIME_TO_LEAD_TIME_RATIO', 'PRODUCT_CLASSIFICATION']),\n",
    "    ('polynomial', PolynomialFeatures(degree = 2, include_bias = False),\n",
    "        ['PURCHASING_LEAD_TIME', 'TRANSIT_LEAD_TIME', 'GIVEN_TIME_TO_LEAD_TIME_RATIO']), #or selector(dtype_include='number') or include=['int64', 'float64']\n",
    "    ('encode_categorical', OneHotEncoder(handle_unknown = 'ignore', sparse_output = False),\n",
    "        ['PRODUCT_CLASSIFICATION', 'DIVISION_NUMBER', 'DISTANCE_IN_MILES', 'PURCHASE_ORDER_TYPE', 'SHIP_FROM_VENDOR', 'LEAD_TIME_TO_DISTANCE_RATIO']),\n",
    "    ('drop_objects', 'drop', object_cols),\n",
    "    ('drop_id', 'drop', ['ID'])\n",
    "        ],\n",
    "    remainder = 'passthrough'\n",
    ")"
   ]
  },
  {
   "cell_type": "markdown",
   "id": "90be1680",
   "metadata": {},
   "source": [
    "**Logistic regression preprocessing**"
   ]
  },
  {
   "cell_type": "code",
   "execution_count": 59,
   "id": "57d12ae4",
   "metadata": {},
   "outputs": [],
   "source": [
    "logistic_preprocessor = ColumnTransformer(\n",
    "    transformers=[\n",
    "    ('imputer', SimpleImputer(strategy='most_frequent'), \n",
    "        ['AVERAGE_DAILY_DEMAND_CASES', 'AVERAGE_VENDOR_ORDER_CYCLE_DAYS', 'AVERAGE_ORDER_CYCLE_DAYS']),\n",
    "    ('encode_categorical', OneHotEncoder(handle_unknown='ignore', drop='first'), \n",
    "        ['ORDER_DAY_OF_WEEK', 'PURCHASE_ORDER_TYPE', 'TRANSIT_LEAD_TIME', 'DUE_DATE_WEEKDAY']),\n",
    "    ('binning', KBinsDiscretizer(n_bins = 5, encode = 'ordinal', strategy = 'uniform'),\n",
    "        ['LEAD_TIME_TO_DISTANCE_RATIO']),\n",
    "    ('drop_cols', 'drop', \n",
    "        ['DIVISION_CODE', 'RESERVABLE_INDICATOR', 'PRODUCT_STATUS', 'DAYS_BETWEEN_ORDER_AND_DUE_DATE', 'ID', 'DIVISION_NUMBER', \n",
    "         'AVERAGE_PRODUCT_ORDER_QUANTITY_MARKET', 'AVERAGE_ORDER_CYCLE_CASES', 'ORDER_DATE','PURCHASE_ORDER_DUE_DATE']),\n",
    "            #dropping both columns that contain no information and those that have a high VIF\n",
    "    ('skewed', PowerTransformer(method='yeo-johnson'),\n",
    "        ['DISTANCE_IN_MILES', 'AVERAGE_PRODUCT_ORDER_QUANTITY_MARKET', 'ORDER_QUANTITY_DEVIATION', 'PURCHASING_LEAD_TIME']),\n",
    "    ],\n",
    "    remainder='passthrough'\n",
    ")\n"
   ]
  },
  {
   "cell_type": "markdown",
   "id": "e53ed5ce",
   "metadata": {},
   "source": [
    "**Bagging preprocessing**"
   ]
  },
  {
   "cell_type": "code",
   "execution_count": 16,
   "id": "0cc75d93",
   "metadata": {},
   "outputs": [],
   "source": [
    "top_correlations = list(np.abs(pd.merge(X, y_csv, on = 'ID').select_dtypes(include = 'number').corr()['ON_TIME_AND_COMPLETE']).sort_values(ascending = False).head(21).index)\n",
    "top_correlations.remove('ON_TIME_AND_COMPLETE')\n",
    "bagging_preprocessor = ColumnTransformer(\n",
    "    transformers=[\n",
    "    ('top_corrs', 'passthrough', top_correlations)\n",
    "    ],\n",
    "    remainder='drop'\n",
    ")"
   ]
  },
  {
   "cell_type": "markdown",
   "id": "a290f8a7",
   "metadata": {},
   "source": [
    "**Boosting preprocessing**"
   ]
  },
  {
   "cell_type": "code",
   "execution_count": 67,
   "id": "dead4144",
   "metadata": {},
   "outputs": [],
   "source": [
    "#Drop columns with no information and the two datetime columns\n",
    "    #I found that the model severely overfits when including the date, and using derived columns (ex. days since the start, day of month) don't improve performance\n",
    "boosting_preprocessor = ColumnTransformer(\n",
    "    transformers=[\n",
    "        ('drop', 'drop', \n",
    "         ['DIVISION_CODE', 'RESERVABLE_INDICATOR', 'PRODUCT_STATUS', 'ORDER_DATE','PURCHASE_ORDER_DUE_DATE', 'ID'])\n",
    "    ],\n",
    "    remainder='passthrough'\n",
    ")"
   ]
  },
  {
   "cell_type": "markdown",
   "id": "730eaefd",
   "metadata": {},
   "source": [
    "## 2) Model Training\n",
    "\n",
    "Build and train your base model(s) in this section.  \n",
    "If you are using techniques like stacking or voting, be sure to show how the base models and the final estimator are defined and fit.\n"
   ]
  },
  {
   "cell_type": "markdown",
   "id": "641669c1",
   "metadata": {},
   "source": [
    "Since the base dataset is roughly balanced, I won't worry about stratifying the data. Also, accuracy score is an appropriate metric here (if the data wasn't balanced, I would use f1 score)."
   ]
  },
  {
   "cell_type": "markdown",
   "id": "c97e0c79",
   "metadata": {},
   "source": [
    "**KNN model**"
   ]
  },
  {
   "cell_type": "code",
   "execution_count": 32,
   "id": "efccf837",
   "metadata": {},
   "outputs": [
    {
     "name": "stdout",
     "output_type": "stream",
     "text": [
      "Train accuracy: 0.8344\n",
      "Test accuracy: 0.8041\n"
     ]
    }
   ],
   "source": [
    "knn_params = {'metric': 'euclidean',\n",
    "              'n_neighbors': np.int64(8),\n",
    "              'weights': 'uniform'}\n",
    "\n",
    "knn_pipeline = Pipeline([\n",
    "    ('preprocessor', knn_preprocessor),\n",
    "    ('scaler', StandardScaler()),\n",
    "    ('knn', KNeighborsClassifier(**knn_params))\n",
    "])\n",
    "\n",
    "knn_pipeline.fit(X_train, y_train)\n",
    "\n",
    "print(f'Train accuracy: {accuracy_score(y_train, knn_pipeline.predict(X_train)):.4f}')\n",
    "print(f'Test accuracy: {accuracy_score(y_test, knn_pipeline.predict(X_test)):.4f}')"
   ]
  },
  {
   "cell_type": "markdown",
   "id": "d93bf8dc",
   "metadata": {},
   "source": [
    "**Logistic regression model**"
   ]
  },
  {
   "cell_type": "code",
   "execution_count": null,
   "id": "d1b02126",
   "metadata": {},
   "outputs": [
    {
     "name": "stdout",
     "output_type": "stream",
     "text": [
      "Train accuracy: 0.6464\n",
      "Test accuracy: 0.6424\n"
     ]
    },
    {
     "name": "stderr",
     "output_type": "stream",
     "text": [
      "/Users/lizzymarino/anaconda3/envs/cenv2/lib/python3.13/site-packages/sklearn/linear_model/_sag.py:348: ConvergenceWarning: The max_iter was reached which means the coef_ did not converge\n",
      "  warnings.warn(\n"
     ]
    }
   ],
   "source": [
    "logistic_params = {'C': 0.52641053,\n",
    "                   'l1_ratio': 0.21052632,\n",
    "                   'solver': 'saga', \n",
    "                   'penalty': 'elasticnet'}\n",
    "\n",
    "logistic_pipeline = Pipeline([\n",
    "    ('preprocessor', logistic_preprocessor),\n",
    "    # ('scaler', StandardScaler()),\n",
    "    ('model', LogisticRegression(**logistic_params))\n",
    "])\n",
    "\n",
    "logistic_pipeline.fit(X_train, y_train)\n",
    "print(f'Train accuracy: {accuracy_score(y_train, logistic_pipeline.predict(X_train)):.4f}')\n",
    "print(f'Test accuracy: {accuracy_score(y_test, logistic_pipeline.predict(X_test)):.4f}')"
   ]
  },
  {
   "cell_type": "markdown",
   "id": "74f5e1d5",
   "metadata": {},
   "source": [
    "**Bagging model**"
   ]
  },
  {
   "cell_type": "code",
   "execution_count": 65,
   "id": "41143541",
   "metadata": {},
   "outputs": [
    {
     "name": "stdout",
     "output_type": "stream",
     "text": [
      "Train accuracy: 0.8962\n",
      "Test accuracy: 0.8168\n"
     ]
    }
   ],
   "source": [
    "bagging_params = {'bootstrap_features': True,\n",
    "                  'max_features': 0.5,\n",
    "                  'max_samples': 0.5,\n",
    "                  'n_estimators': 100}\n",
    "\n",
    "bagging_pipeline = Pipeline([\n",
    "    ('preprocessor', bagging_preprocessor),\n",
    "    ('classifier', BaggingClassifier(**bagging_params))\n",
    "])\n",
    "\n",
    "bagging_pipeline.fit(X_train, y_train)\n",
    "print(f'Train accuracy: {accuracy_score(y_train, bagging_pipeline.predict(X_train)):.4f}')\n",
    "print(f'Test accuracy: {accuracy_score(y_test, bagging_pipeline.predict(X_test)):.4f}')"
   ]
  },
  {
   "cell_type": "markdown",
   "id": "2c1e3d94",
   "metadata": {},
   "source": [
    "**Boosting model**"
   ]
  },
  {
   "cell_type": "code",
   "execution_count": 68,
   "id": "c1342f5f",
   "metadata": {},
   "outputs": [
    {
     "name": "stderr",
     "output_type": "stream",
     "text": [
      "/Users/lizzymarino/anaconda3/envs/cenv2/lib/python3.13/site-packages/sklearn/utils/validation.py:2739: UserWarning: X does not have valid feature names, but LGBMClassifier was fitted with feature names\n",
      "  warnings.warn(\n",
      "/Users/lizzymarino/anaconda3/envs/cenv2/lib/python3.13/site-packages/sklearn/utils/validation.py:2739: UserWarning: X does not have valid feature names, but LGBMClassifier was fitted with feature names\n",
      "  warnings.warn(\n"
     ]
    },
    {
     "name": "stdout",
     "output_type": "stream",
     "text": [
      "Train accuracy: 0.8436\n",
      "Test accuracy: 0.8290\n"
     ]
    }
   ],
   "source": [
    "boosting_params = {'learning_rate': 0.03813597268507302,\n",
    "                   'max_depth': 7,\n",
    "                   'lambda_l1': 1.1672465647983294,\n",
    "                   'lambda_l2': 5,\n",
    "                   'min_split_gain': 0.04485197937078586,\n",
    "                   'num_leaves': 183,\n",
    "                   'feature_fraction': 0.41751919689550565,\n",
    "                   'min_data_in_leaf': 84,\n",
    "                   'n_estimators': 250,\n",
    "                   'bagging_fraction': 0.7461616073499773,\n",
    "                   'bagging_freq': 7}\n",
    "\n",
    "boosting_pipeline = Pipeline([\n",
    "    ('preprocessor', boosting_preprocessor),\n",
    "    ('classifier', LGBMClassifier(**boosting_params, boosting_type='gbdt', verbose=-1))\n",
    "])\n",
    "\n",
    "boosting_pipeline.fit(X_train, y_train)\n",
    "print(f'Train accuracy: {accuracy_score(y_train, boosting_pipeline.predict(X_train)):.4f}')\n",
    "print(f'Test accuracy: {accuracy_score(y_test, boosting_pipeline.predict(X_test)):.4f}')"
   ]
  },
  {
   "cell_type": "markdown",
   "id": "665a03db",
   "metadata": {},
   "source": [
    "## 3) Hyperparameter Tuning\n",
    "\n",
    "Describe and implement any hyperparameter tuning you applied (e.g., using Optuna, BayesSearchCV, or other methods).  \n",
    "Include your code and clearly report the best parameters found.\n",
    "\n",
    "> ⚠️ Even if your tuned model did not outperform the default settings, this step is still required. You must demonstrate and document your tuning efforts.\n"
   ]
  },
  {
   "cell_type": "markdown",
   "id": "c19d8f4c",
   "metadata": {},
   "source": [
    "I will use a stacking model with a logistic regression metamodel, tuning the regularization hyperparameter with BayesSearchCV."
   ]
  },
  {
   "cell_type": "code",
   "execution_count": 78,
   "id": "c7002dd4",
   "metadata": {},
   "outputs": [],
   "source": [
    "base_learners = [\n",
    "    ('knn', knn_pipeline),\n",
    "    ('logistic_regression', logistic_pipeline),\n",
    "    ('bagging', bagging_pipeline),\n",
    "    ('boosting', boosting_pipeline)\n",
    "]\n",
    "\n",
    "stacking_classifier = StackingClassifier(\n",
    "    estimators=base_learners,\n",
    "    final_estimator=LogisticRegression()\n",
    ")\n",
    "\n",
    "stacking_param_space = {\n",
    "    'final_estimator__C': Real(1e-4, 1e4, prior='log-uniform')\n",
    "}\n",
    "\n",
    "stacking_bayes = BayesSearchCV(\n",
    "    estimator=stacking_classifier,\n",
    "    search_spaces=stacking_param_space,\n",
    "    n_iter=5,\n",
    "    cv=3,\n",
    "    scoring='accuracy'\n",
    ")"
   ]
  },
  {
   "cell_type": "markdown",
   "id": "782cd1aa",
   "metadata": {},
   "source": [
    "Train the model and determine accuracy before tuning the C metamodel hyperparameter:"
   ]
  },
  {
   "cell_type": "code",
   "execution_count": 75,
   "id": "41017d51",
   "metadata": {},
   "outputs": [
    {
     "name": "stderr",
     "output_type": "stream",
     "text": [
      "/Users/lizzymarino/anaconda3/envs/cenv2/lib/python3.13/site-packages/sklearn/linear_model/_sag.py:348: ConvergenceWarning: The max_iter was reached which means the coef_ did not converge\n",
      "  warnings.warn(\n",
      "/Users/lizzymarino/anaconda3/envs/cenv2/lib/python3.13/site-packages/sklearn/linear_model/_sag.py:348: ConvergenceWarning: The max_iter was reached which means the coef_ did not converge\n",
      "  warnings.warn(\n",
      "/Users/lizzymarino/anaconda3/envs/cenv2/lib/python3.13/site-packages/sklearn/preprocessing/_encoders.py:246: UserWarning: Found unknown categories in columns [2, 3] during transform. These unknown categories will be encoded as all zeros\n",
      "  warnings.warn(\n",
      "/Users/lizzymarino/anaconda3/envs/cenv2/lib/python3.13/site-packages/sklearn/linear_model/_sag.py:348: ConvergenceWarning: The max_iter was reached which means the coef_ did not converge\n",
      "  warnings.warn(\n",
      "/Users/lizzymarino/anaconda3/envs/cenv2/lib/python3.13/site-packages/sklearn/linear_model/_sag.py:348: ConvergenceWarning: The max_iter was reached which means the coef_ did not converge\n",
      "  warnings.warn(\n",
      "/Users/lizzymarino/anaconda3/envs/cenv2/lib/python3.13/site-packages/sklearn/preprocessing/_encoders.py:246: UserWarning: Found unknown categories in columns [2] during transform. These unknown categories will be encoded as all zeros\n",
      "  warnings.warn(\n",
      "/Users/lizzymarino/anaconda3/envs/cenv2/lib/python3.13/site-packages/sklearn/linear_model/_sag.py:348: ConvergenceWarning: The max_iter was reached which means the coef_ did not converge\n",
      "  warnings.warn(\n",
      "/Users/lizzymarino/anaconda3/envs/cenv2/lib/python3.13/site-packages/sklearn/linear_model/_sag.py:348: ConvergenceWarning: The max_iter was reached which means the coef_ did not converge\n",
      "  warnings.warn(\n",
      "/Users/lizzymarino/anaconda3/envs/cenv2/lib/python3.13/site-packages/sklearn/utils/validation.py:2739: UserWarning: X does not have valid feature names, but LGBMClassifier was fitted with feature names\n",
      "  warnings.warn(\n",
      "/Users/lizzymarino/anaconda3/envs/cenv2/lib/python3.13/site-packages/sklearn/utils/validation.py:2739: UserWarning: X does not have valid feature names, but LGBMClassifier was fitted with feature names\n",
      "  warnings.warn(\n",
      "/Users/lizzymarino/anaconda3/envs/cenv2/lib/python3.13/site-packages/sklearn/utils/validation.py:2739: UserWarning: X does not have valid feature names, but LGBMClassifier was fitted with feature names\n",
      "  warnings.warn(\n",
      "/Users/lizzymarino/anaconda3/envs/cenv2/lib/python3.13/site-packages/sklearn/utils/validation.py:2739: UserWarning: X does not have valid feature names, but LGBMClassifier was fitted with feature names\n",
      "  warnings.warn(\n",
      "/Users/lizzymarino/anaconda3/envs/cenv2/lib/python3.13/site-packages/sklearn/utils/validation.py:2739: UserWarning: X does not have valid feature names, but LGBMClassifier was fitted with feature names\n",
      "  warnings.warn(\n",
      "/Users/lizzymarino/anaconda3/envs/cenv2/lib/python3.13/site-packages/sklearn/compose/_column_transformer.py:1667: FutureWarning: \n",
      "The format of the columns of the 'remainder' transformer in ColumnTransformer.transformers_ will change in version 1.7 to match the format of the other transformers.\n",
      "At the moment the remainder columns are stored as indices (of type int). With the same ColumnTransformer configuration, in the future they will be stored as column names (of type str).\n",
      "To use the new behavior now and suppress this warning, use ColumnTransformer(force_int_remainder_cols=False).\n",
      "\n",
      "  warnings.warn(\n"
     ]
    },
    {
     "data": {
      "text/html": [
       "<style>#sk-container-id-1 {\n",
       "  /* Definition of color scheme common for light and dark mode */\n",
       "  --sklearn-color-text: #000;\n",
       "  --sklearn-color-text-muted: #666;\n",
       "  --sklearn-color-line: gray;\n",
       "  /* Definition of color scheme for unfitted estimators */\n",
       "  --sklearn-color-unfitted-level-0: #fff5e6;\n",
       "  --sklearn-color-unfitted-level-1: #f6e4d2;\n",
       "  --sklearn-color-unfitted-level-2: #ffe0b3;\n",
       "  --sklearn-color-unfitted-level-3: chocolate;\n",
       "  /* Definition of color scheme for fitted estimators */\n",
       "  --sklearn-color-fitted-level-0: #f0f8ff;\n",
       "  --sklearn-color-fitted-level-1: #d4ebff;\n",
       "  --sklearn-color-fitted-level-2: #b3dbfd;\n",
       "  --sklearn-color-fitted-level-3: cornflowerblue;\n",
       "\n",
       "  /* Specific color for light theme */\n",
       "  --sklearn-color-text-on-default-background: var(--sg-text-color, var(--theme-code-foreground, var(--jp-content-font-color1, black)));\n",
       "  --sklearn-color-background: var(--sg-background-color, var(--theme-background, var(--jp-layout-color0, white)));\n",
       "  --sklearn-color-border-box: var(--sg-text-color, var(--theme-code-foreground, var(--jp-content-font-color1, black)));\n",
       "  --sklearn-color-icon: #696969;\n",
       "\n",
       "  @media (prefers-color-scheme: dark) {\n",
       "    /* Redefinition of color scheme for dark theme */\n",
       "    --sklearn-color-text-on-default-background: var(--sg-text-color, var(--theme-code-foreground, var(--jp-content-font-color1, white)));\n",
       "    --sklearn-color-background: var(--sg-background-color, var(--theme-background, var(--jp-layout-color0, #111)));\n",
       "    --sklearn-color-border-box: var(--sg-text-color, var(--theme-code-foreground, var(--jp-content-font-color1, white)));\n",
       "    --sklearn-color-icon: #878787;\n",
       "  }\n",
       "}\n",
       "\n",
       "#sk-container-id-1 {\n",
       "  color: var(--sklearn-color-text);\n",
       "}\n",
       "\n",
       "#sk-container-id-1 pre {\n",
       "  padding: 0;\n",
       "}\n",
       "\n",
       "#sk-container-id-1 input.sk-hidden--visually {\n",
       "  border: 0;\n",
       "  clip: rect(1px 1px 1px 1px);\n",
       "  clip: rect(1px, 1px, 1px, 1px);\n",
       "  height: 1px;\n",
       "  margin: -1px;\n",
       "  overflow: hidden;\n",
       "  padding: 0;\n",
       "  position: absolute;\n",
       "  width: 1px;\n",
       "}\n",
       "\n",
       "#sk-container-id-1 div.sk-dashed-wrapped {\n",
       "  border: 1px dashed var(--sklearn-color-line);\n",
       "  margin: 0 0.4em 0.5em 0.4em;\n",
       "  box-sizing: border-box;\n",
       "  padding-bottom: 0.4em;\n",
       "  background-color: var(--sklearn-color-background);\n",
       "}\n",
       "\n",
       "#sk-container-id-1 div.sk-container {\n",
       "  /* jupyter's `normalize.less` sets `[hidden] { display: none; }`\n",
       "     but bootstrap.min.css set `[hidden] { display: none !important; }`\n",
       "     so we also need the `!important` here to be able to override the\n",
       "     default hidden behavior on the sphinx rendered scikit-learn.org.\n",
       "     See: https://github.com/scikit-learn/scikit-learn/issues/21755 */\n",
       "  display: inline-block !important;\n",
       "  position: relative;\n",
       "}\n",
       "\n",
       "#sk-container-id-1 div.sk-text-repr-fallback {\n",
       "  display: none;\n",
       "}\n",
       "\n",
       "div.sk-parallel-item,\n",
       "div.sk-serial,\n",
       "div.sk-item {\n",
       "  /* draw centered vertical line to link estimators */\n",
       "  background-image: linear-gradient(var(--sklearn-color-text-on-default-background), var(--sklearn-color-text-on-default-background));\n",
       "  background-size: 2px 100%;\n",
       "  background-repeat: no-repeat;\n",
       "  background-position: center center;\n",
       "}\n",
       "\n",
       "/* Parallel-specific style estimator block */\n",
       "\n",
       "#sk-container-id-1 div.sk-parallel-item::after {\n",
       "  content: \"\";\n",
       "  width: 100%;\n",
       "  border-bottom: 2px solid var(--sklearn-color-text-on-default-background);\n",
       "  flex-grow: 1;\n",
       "}\n",
       "\n",
       "#sk-container-id-1 div.sk-parallel {\n",
       "  display: flex;\n",
       "  align-items: stretch;\n",
       "  justify-content: center;\n",
       "  background-color: var(--sklearn-color-background);\n",
       "  position: relative;\n",
       "}\n",
       "\n",
       "#sk-container-id-1 div.sk-parallel-item {\n",
       "  display: flex;\n",
       "  flex-direction: column;\n",
       "}\n",
       "\n",
       "#sk-container-id-1 div.sk-parallel-item:first-child::after {\n",
       "  align-self: flex-end;\n",
       "  width: 50%;\n",
       "}\n",
       "\n",
       "#sk-container-id-1 div.sk-parallel-item:last-child::after {\n",
       "  align-self: flex-start;\n",
       "  width: 50%;\n",
       "}\n",
       "\n",
       "#sk-container-id-1 div.sk-parallel-item:only-child::after {\n",
       "  width: 0;\n",
       "}\n",
       "\n",
       "/* Serial-specific style estimator block */\n",
       "\n",
       "#sk-container-id-1 div.sk-serial {\n",
       "  display: flex;\n",
       "  flex-direction: column;\n",
       "  align-items: center;\n",
       "  background-color: var(--sklearn-color-background);\n",
       "  padding-right: 1em;\n",
       "  padding-left: 1em;\n",
       "}\n",
       "\n",
       "\n",
       "/* Toggleable style: style used for estimator/Pipeline/ColumnTransformer box that is\n",
       "clickable and can be expanded/collapsed.\n",
       "- Pipeline and ColumnTransformer use this feature and define the default style\n",
       "- Estimators will overwrite some part of the style using the `sk-estimator` class\n",
       "*/\n",
       "\n",
       "/* Pipeline and ColumnTransformer style (default) */\n",
       "\n",
       "#sk-container-id-1 div.sk-toggleable {\n",
       "  /* Default theme specific background. It is overwritten whether we have a\n",
       "  specific estimator or a Pipeline/ColumnTransformer */\n",
       "  background-color: var(--sklearn-color-background);\n",
       "}\n",
       "\n",
       "/* Toggleable label */\n",
       "#sk-container-id-1 label.sk-toggleable__label {\n",
       "  cursor: pointer;\n",
       "  display: flex;\n",
       "  width: 100%;\n",
       "  margin-bottom: 0;\n",
       "  padding: 0.5em;\n",
       "  box-sizing: border-box;\n",
       "  text-align: center;\n",
       "  align-items: start;\n",
       "  justify-content: space-between;\n",
       "  gap: 0.5em;\n",
       "}\n",
       "\n",
       "#sk-container-id-1 label.sk-toggleable__label .caption {\n",
       "  font-size: 0.6rem;\n",
       "  font-weight: lighter;\n",
       "  color: var(--sklearn-color-text-muted);\n",
       "}\n",
       "\n",
       "#sk-container-id-1 label.sk-toggleable__label-arrow:before {\n",
       "  /* Arrow on the left of the label */\n",
       "  content: \"▸\";\n",
       "  float: left;\n",
       "  margin-right: 0.25em;\n",
       "  color: var(--sklearn-color-icon);\n",
       "}\n",
       "\n",
       "#sk-container-id-1 label.sk-toggleable__label-arrow:hover:before {\n",
       "  color: var(--sklearn-color-text);\n",
       "}\n",
       "\n",
       "/* Toggleable content - dropdown */\n",
       "\n",
       "#sk-container-id-1 div.sk-toggleable__content {\n",
       "  max-height: 0;\n",
       "  max-width: 0;\n",
       "  overflow: hidden;\n",
       "  text-align: left;\n",
       "  /* unfitted */\n",
       "  background-color: var(--sklearn-color-unfitted-level-0);\n",
       "}\n",
       "\n",
       "#sk-container-id-1 div.sk-toggleable__content.fitted {\n",
       "  /* fitted */\n",
       "  background-color: var(--sklearn-color-fitted-level-0);\n",
       "}\n",
       "\n",
       "#sk-container-id-1 div.sk-toggleable__content pre {\n",
       "  margin: 0.2em;\n",
       "  border-radius: 0.25em;\n",
       "  color: var(--sklearn-color-text);\n",
       "  /* unfitted */\n",
       "  background-color: var(--sklearn-color-unfitted-level-0);\n",
       "}\n",
       "\n",
       "#sk-container-id-1 div.sk-toggleable__content.fitted pre {\n",
       "  /* unfitted */\n",
       "  background-color: var(--sklearn-color-fitted-level-0);\n",
       "}\n",
       "\n",
       "#sk-container-id-1 input.sk-toggleable__control:checked~div.sk-toggleable__content {\n",
       "  /* Expand drop-down */\n",
       "  max-height: 200px;\n",
       "  max-width: 100%;\n",
       "  overflow: auto;\n",
       "}\n",
       "\n",
       "#sk-container-id-1 input.sk-toggleable__control:checked~label.sk-toggleable__label-arrow:before {\n",
       "  content: \"▾\";\n",
       "}\n",
       "\n",
       "/* Pipeline/ColumnTransformer-specific style */\n",
       "\n",
       "#sk-container-id-1 div.sk-label input.sk-toggleable__control:checked~label.sk-toggleable__label {\n",
       "  color: var(--sklearn-color-text);\n",
       "  background-color: var(--sklearn-color-unfitted-level-2);\n",
       "}\n",
       "\n",
       "#sk-container-id-1 div.sk-label.fitted input.sk-toggleable__control:checked~label.sk-toggleable__label {\n",
       "  background-color: var(--sklearn-color-fitted-level-2);\n",
       "}\n",
       "\n",
       "/* Estimator-specific style */\n",
       "\n",
       "/* Colorize estimator box */\n",
       "#sk-container-id-1 div.sk-estimator input.sk-toggleable__control:checked~label.sk-toggleable__label {\n",
       "  /* unfitted */\n",
       "  background-color: var(--sklearn-color-unfitted-level-2);\n",
       "}\n",
       "\n",
       "#sk-container-id-1 div.sk-estimator.fitted input.sk-toggleable__control:checked~label.sk-toggleable__label {\n",
       "  /* fitted */\n",
       "  background-color: var(--sklearn-color-fitted-level-2);\n",
       "}\n",
       "\n",
       "#sk-container-id-1 div.sk-label label.sk-toggleable__label,\n",
       "#sk-container-id-1 div.sk-label label {\n",
       "  /* The background is the default theme color */\n",
       "  color: var(--sklearn-color-text-on-default-background);\n",
       "}\n",
       "\n",
       "/* On hover, darken the color of the background */\n",
       "#sk-container-id-1 div.sk-label:hover label.sk-toggleable__label {\n",
       "  color: var(--sklearn-color-text);\n",
       "  background-color: var(--sklearn-color-unfitted-level-2);\n",
       "}\n",
       "\n",
       "/* Label box, darken color on hover, fitted */\n",
       "#sk-container-id-1 div.sk-label.fitted:hover label.sk-toggleable__label.fitted {\n",
       "  color: var(--sklearn-color-text);\n",
       "  background-color: var(--sklearn-color-fitted-level-2);\n",
       "}\n",
       "\n",
       "/* Estimator label */\n",
       "\n",
       "#sk-container-id-1 div.sk-label label {\n",
       "  font-family: monospace;\n",
       "  font-weight: bold;\n",
       "  display: inline-block;\n",
       "  line-height: 1.2em;\n",
       "}\n",
       "\n",
       "#sk-container-id-1 div.sk-label-container {\n",
       "  text-align: center;\n",
       "}\n",
       "\n",
       "/* Estimator-specific */\n",
       "#sk-container-id-1 div.sk-estimator {\n",
       "  font-family: monospace;\n",
       "  border: 1px dotted var(--sklearn-color-border-box);\n",
       "  border-radius: 0.25em;\n",
       "  box-sizing: border-box;\n",
       "  margin-bottom: 0.5em;\n",
       "  /* unfitted */\n",
       "  background-color: var(--sklearn-color-unfitted-level-0);\n",
       "}\n",
       "\n",
       "#sk-container-id-1 div.sk-estimator.fitted {\n",
       "  /* fitted */\n",
       "  background-color: var(--sklearn-color-fitted-level-0);\n",
       "}\n",
       "\n",
       "/* on hover */\n",
       "#sk-container-id-1 div.sk-estimator:hover {\n",
       "  /* unfitted */\n",
       "  background-color: var(--sklearn-color-unfitted-level-2);\n",
       "}\n",
       "\n",
       "#sk-container-id-1 div.sk-estimator.fitted:hover {\n",
       "  /* fitted */\n",
       "  background-color: var(--sklearn-color-fitted-level-2);\n",
       "}\n",
       "\n",
       "/* Specification for estimator info (e.g. \"i\" and \"?\") */\n",
       "\n",
       "/* Common style for \"i\" and \"?\" */\n",
       "\n",
       ".sk-estimator-doc-link,\n",
       "a:link.sk-estimator-doc-link,\n",
       "a:visited.sk-estimator-doc-link {\n",
       "  float: right;\n",
       "  font-size: smaller;\n",
       "  line-height: 1em;\n",
       "  font-family: monospace;\n",
       "  background-color: var(--sklearn-color-background);\n",
       "  border-radius: 1em;\n",
       "  height: 1em;\n",
       "  width: 1em;\n",
       "  text-decoration: none !important;\n",
       "  margin-left: 0.5em;\n",
       "  text-align: center;\n",
       "  /* unfitted */\n",
       "  border: var(--sklearn-color-unfitted-level-1) 1pt solid;\n",
       "  color: var(--sklearn-color-unfitted-level-1);\n",
       "}\n",
       "\n",
       ".sk-estimator-doc-link.fitted,\n",
       "a:link.sk-estimator-doc-link.fitted,\n",
       "a:visited.sk-estimator-doc-link.fitted {\n",
       "  /* fitted */\n",
       "  border: var(--sklearn-color-fitted-level-1) 1pt solid;\n",
       "  color: var(--sklearn-color-fitted-level-1);\n",
       "}\n",
       "\n",
       "/* On hover */\n",
       "div.sk-estimator:hover .sk-estimator-doc-link:hover,\n",
       ".sk-estimator-doc-link:hover,\n",
       "div.sk-label-container:hover .sk-estimator-doc-link:hover,\n",
       ".sk-estimator-doc-link:hover {\n",
       "  /* unfitted */\n",
       "  background-color: var(--sklearn-color-unfitted-level-3);\n",
       "  color: var(--sklearn-color-background);\n",
       "  text-decoration: none;\n",
       "}\n",
       "\n",
       "div.sk-estimator.fitted:hover .sk-estimator-doc-link.fitted:hover,\n",
       ".sk-estimator-doc-link.fitted:hover,\n",
       "div.sk-label-container:hover .sk-estimator-doc-link.fitted:hover,\n",
       ".sk-estimator-doc-link.fitted:hover {\n",
       "  /* fitted */\n",
       "  background-color: var(--sklearn-color-fitted-level-3);\n",
       "  color: var(--sklearn-color-background);\n",
       "  text-decoration: none;\n",
       "}\n",
       "\n",
       "/* Span, style for the box shown on hovering the info icon */\n",
       ".sk-estimator-doc-link span {\n",
       "  display: none;\n",
       "  z-index: 9999;\n",
       "  position: relative;\n",
       "  font-weight: normal;\n",
       "  right: .2ex;\n",
       "  padding: .5ex;\n",
       "  margin: .5ex;\n",
       "  width: min-content;\n",
       "  min-width: 20ex;\n",
       "  max-width: 50ex;\n",
       "  color: var(--sklearn-color-text);\n",
       "  box-shadow: 2pt 2pt 4pt #999;\n",
       "  /* unfitted */\n",
       "  background: var(--sklearn-color-unfitted-level-0);\n",
       "  border: .5pt solid var(--sklearn-color-unfitted-level-3);\n",
       "}\n",
       "\n",
       ".sk-estimator-doc-link.fitted span {\n",
       "  /* fitted */\n",
       "  background: var(--sklearn-color-fitted-level-0);\n",
       "  border: var(--sklearn-color-fitted-level-3);\n",
       "}\n",
       "\n",
       ".sk-estimator-doc-link:hover span {\n",
       "  display: block;\n",
       "}\n",
       "\n",
       "/* \"?\"-specific style due to the `<a>` HTML tag */\n",
       "\n",
       "#sk-container-id-1 a.estimator_doc_link {\n",
       "  float: right;\n",
       "  font-size: 1rem;\n",
       "  line-height: 1em;\n",
       "  font-family: monospace;\n",
       "  background-color: var(--sklearn-color-background);\n",
       "  border-radius: 1rem;\n",
       "  height: 1rem;\n",
       "  width: 1rem;\n",
       "  text-decoration: none;\n",
       "  /* unfitted */\n",
       "  color: var(--sklearn-color-unfitted-level-1);\n",
       "  border: var(--sklearn-color-unfitted-level-1) 1pt solid;\n",
       "}\n",
       "\n",
       "#sk-container-id-1 a.estimator_doc_link.fitted {\n",
       "  /* fitted */\n",
       "  border: var(--sklearn-color-fitted-level-1) 1pt solid;\n",
       "  color: var(--sklearn-color-fitted-level-1);\n",
       "}\n",
       "\n",
       "/* On hover */\n",
       "#sk-container-id-1 a.estimator_doc_link:hover {\n",
       "  /* unfitted */\n",
       "  background-color: var(--sklearn-color-unfitted-level-3);\n",
       "  color: var(--sklearn-color-background);\n",
       "  text-decoration: none;\n",
       "}\n",
       "\n",
       "#sk-container-id-1 a.estimator_doc_link.fitted:hover {\n",
       "  /* fitted */\n",
       "  background-color: var(--sklearn-color-fitted-level-3);\n",
       "}\n",
       "</style><div id=\"sk-container-id-1\" class=\"sk-top-container\"><div class=\"sk-text-repr-fallback\"><pre>StackingClassifier(estimators=[(&#x27;knn&#x27;,\n",
       "                                Pipeline(steps=[(&#x27;preprocessor&#x27;,\n",
       "                                                 ColumnTransformer(remainder=&#x27;passthrough&#x27;,\n",
       "                                                                   transformers=[(&#x27;impute_then_bin&#x27;,\n",
       "                                                                                  Pipeline(steps=[(&#x27;imputer&#x27;,\n",
       "                                                                                                   SimpleImputer()),\n",
       "                                                                                                  (&#x27;binner&#x27;,\n",
       "                                                                                                   KBinsDiscretizer(encode=&#x27;ordinal&#x27;,\n",
       "                                                                                                                    strategy=&#x27;uniform&#x27;))]),\n",
       "                                                                                  [&#x27;AVERAGE_VENDOR_ORDER_CYCLE_DAYS&#x27;,\n",
       "                                                                                   &#x27;AVERAGE_ORDER_CYCLE_DAYS&#x27;]),\n",
       "                                                                                 (&#x27;impute&#x27;,\n",
       "                                                                                  SimpleImputer(),\n",
       "                                                                                  [&#x27;AV...\n",
       "                                                                                   &#x27;ID&#x27;])])),\n",
       "                                                (&#x27;classifier&#x27;,\n",
       "                                                 LGBMClassifier(bagging_fraction=0.7461616073499773,\n",
       "                                                                bagging_freq=7,\n",
       "                                                                feature_fraction=0.41751919689550565,\n",
       "                                                                lambda_l1=1.1672465647983294,\n",
       "                                                                lambda_l2=5,\n",
       "                                                                learning_rate=0.03813597268507302,\n",
       "                                                                max_depth=7,\n",
       "                                                                min_data_in_leaf=84,\n",
       "                                                                min_split_gain=0.04485197937078586,\n",
       "                                                                n_estimators=250,\n",
       "                                                                num_leaves=183,\n",
       "                                                                verbose=-1))]))],\n",
       "                   final_estimator=LogisticRegression())</pre><b>In a Jupyter environment, please rerun this cell to show the HTML representation or trust the notebook. <br />On GitHub, the HTML representation is unable to render, please try loading this page with nbviewer.org.</b></div><div class=\"sk-container\" hidden><div class=\"sk-item sk-dashed-wrapped\"><div class=\"sk-label-container\"><div class=\"sk-label fitted sk-toggleable\"><input class=\"sk-toggleable__control sk-hidden--visually\" id=\"sk-estimator-id-1\" type=\"checkbox\" ><label for=\"sk-estimator-id-1\" class=\"sk-toggleable__label fitted sk-toggleable__label-arrow\"><div><div>StackingClassifier</div></div><div><a class=\"sk-estimator-doc-link fitted\" rel=\"noreferrer\" target=\"_blank\" href=\"https://scikit-learn.org/1.6/modules/generated/sklearn.ensemble.StackingClassifier.html\">?<span>Documentation for StackingClassifier</span></a><span class=\"sk-estimator-doc-link fitted\">i<span>Fitted</span></span></div></label><div class=\"sk-toggleable__content fitted\"><pre>StackingClassifier(estimators=[(&#x27;knn&#x27;,\n",
       "                                Pipeline(steps=[(&#x27;preprocessor&#x27;,\n",
       "                                                 ColumnTransformer(remainder=&#x27;passthrough&#x27;,\n",
       "                                                                   transformers=[(&#x27;impute_then_bin&#x27;,\n",
       "                                                                                  Pipeline(steps=[(&#x27;imputer&#x27;,\n",
       "                                                                                                   SimpleImputer()),\n",
       "                                                                                                  (&#x27;binner&#x27;,\n",
       "                                                                                                   KBinsDiscretizer(encode=&#x27;ordinal&#x27;,\n",
       "                                                                                                                    strategy=&#x27;uniform&#x27;))]),\n",
       "                                                                                  [&#x27;AVERAGE_VENDOR_ORDER_CYCLE_DAYS&#x27;,\n",
       "                                                                                   &#x27;AVERAGE_ORDER_CYCLE_DAYS&#x27;]),\n",
       "                                                                                 (&#x27;impute&#x27;,\n",
       "                                                                                  SimpleImputer(),\n",
       "                                                                                  [&#x27;AV...\n",
       "                                                                                   &#x27;ID&#x27;])])),\n",
       "                                                (&#x27;classifier&#x27;,\n",
       "                                                 LGBMClassifier(bagging_fraction=0.7461616073499773,\n",
       "                                                                bagging_freq=7,\n",
       "                                                                feature_fraction=0.41751919689550565,\n",
       "                                                                lambda_l1=1.1672465647983294,\n",
       "                                                                lambda_l2=5,\n",
       "                                                                learning_rate=0.03813597268507302,\n",
       "                                                                max_depth=7,\n",
       "                                                                min_data_in_leaf=84,\n",
       "                                                                min_split_gain=0.04485197937078586,\n",
       "                                                                n_estimators=250,\n",
       "                                                                num_leaves=183,\n",
       "                                                                verbose=-1))]))],\n",
       "                   final_estimator=LogisticRegression())</pre></div> </div></div><div class=\"sk-serial\"><div class=\"sk-item\"><div class=\"sk-parallel\"><div class=\"sk-parallel-item\"><div class=\"sk-item\"><div class=\"sk-label-container\"><div class=\"sk-label fitted sk-toggleable\"><label>knn</label></div></div><div class=\"sk-serial\"><div class=\"sk-item\"><div class=\"sk-serial\"><div class=\"sk-item sk-dashed-wrapped\"><div class=\"sk-label-container\"><div class=\"sk-label fitted sk-toggleable\"><input class=\"sk-toggleable__control sk-hidden--visually\" id=\"sk-estimator-id-2\" type=\"checkbox\" ><label for=\"sk-estimator-id-2\" class=\"sk-toggleable__label fitted sk-toggleable__label-arrow\"><div><div>preprocessor: ColumnTransformer</div></div><div><a class=\"sk-estimator-doc-link fitted\" rel=\"noreferrer\" target=\"_blank\" href=\"https://scikit-learn.org/1.6/modules/generated/sklearn.compose.ColumnTransformer.html\">?<span>Documentation for preprocessor: ColumnTransformer</span></a></div></label><div class=\"sk-toggleable__content fitted\"><pre>ColumnTransformer(remainder=&#x27;passthrough&#x27;,\n",
       "                  transformers=[(&#x27;impute_then_bin&#x27;,\n",
       "                                 Pipeline(steps=[(&#x27;imputer&#x27;, SimpleImputer()),\n",
       "                                                 (&#x27;binner&#x27;,\n",
       "                                                  KBinsDiscretizer(encode=&#x27;ordinal&#x27;,\n",
       "                                                                   strategy=&#x27;uniform&#x27;))]),\n",
       "                                 [&#x27;AVERAGE_VENDOR_ORDER_CYCLE_DAYS&#x27;,\n",
       "                                  &#x27;AVERAGE_ORDER_CYCLE_DAYS&#x27;]),\n",
       "                                (&#x27;impute&#x27;, SimpleImputer(),\n",
       "                                 [&#x27;AVERAGE_DAILY_DEMAND_CASES&#x27;,\n",
       "                                  &#x27;AVERAGE_ORDER_CYCLE_CASES&#x27;]),\n",
       "                                (&#x27;binning&#x27;,\n",
       "                                 KBi...\n",
       "                                  &#x27;GIVEN_TIME_TO_LEAD_TIME_RATIO&#x27;]),\n",
       "                                (&#x27;encode_categorical&#x27;,\n",
       "                                 OneHotEncoder(handle_unknown=&#x27;ignore&#x27;,\n",
       "                                               sparse_output=False),\n",
       "                                 [&#x27;PRODUCT_CLASSIFICATION&#x27;, &#x27;DIVISION_NUMBER&#x27;,\n",
       "                                  &#x27;DISTANCE_IN_MILES&#x27;, &#x27;PURCHASE_ORDER_TYPE&#x27;,\n",
       "                                  &#x27;SHIP_FROM_VENDOR&#x27;,\n",
       "                                  &#x27;LEAD_TIME_TO_DISTANCE_RATIO&#x27;]),\n",
       "                                (&#x27;drop_objects&#x27;, &#x27;drop&#x27;,\n",
       "                                 [&#x27;PURCHASE_ORDER_DUE_DATE&#x27;, &#x27;ORDER_DATE&#x27;,\n",
       "                                  &#x27;DIVISION_CODE&#x27;, &#x27;RESERVABLE_INDICATOR&#x27;])])</pre></div> </div></div><div class=\"sk-parallel\"><div class=\"sk-parallel-item\"><div class=\"sk-item\"><div class=\"sk-label-container\"><div class=\"sk-label fitted sk-toggleable\"><input class=\"sk-toggleable__control sk-hidden--visually\" id=\"sk-estimator-id-3\" type=\"checkbox\" ><label for=\"sk-estimator-id-3\" class=\"sk-toggleable__label fitted sk-toggleable__label-arrow\"><div><div>impute_then_bin</div></div></label><div class=\"sk-toggleable__content fitted\"><pre>[&#x27;AVERAGE_VENDOR_ORDER_CYCLE_DAYS&#x27;, &#x27;AVERAGE_ORDER_CYCLE_DAYS&#x27;]</pre></div> </div></div><div class=\"sk-serial\"><div class=\"sk-item\"><div class=\"sk-serial\"><div class=\"sk-item\"><div class=\"sk-estimator fitted sk-toggleable\"><input class=\"sk-toggleable__control sk-hidden--visually\" id=\"sk-estimator-id-4\" type=\"checkbox\" ><label for=\"sk-estimator-id-4\" class=\"sk-toggleable__label fitted sk-toggleable__label-arrow\"><div><div>SimpleImputer</div></div><div><a class=\"sk-estimator-doc-link fitted\" rel=\"noreferrer\" target=\"_blank\" href=\"https://scikit-learn.org/1.6/modules/generated/sklearn.impute.SimpleImputer.html\">?<span>Documentation for SimpleImputer</span></a></div></label><div class=\"sk-toggleable__content fitted\"><pre>SimpleImputer()</pre></div> </div></div><div class=\"sk-item\"><div class=\"sk-estimator fitted sk-toggleable\"><input class=\"sk-toggleable__control sk-hidden--visually\" id=\"sk-estimator-id-5\" type=\"checkbox\" ><label for=\"sk-estimator-id-5\" class=\"sk-toggleable__label fitted sk-toggleable__label-arrow\"><div><div>KBinsDiscretizer</div></div><div><a class=\"sk-estimator-doc-link fitted\" rel=\"noreferrer\" target=\"_blank\" href=\"https://scikit-learn.org/1.6/modules/generated/sklearn.preprocessing.KBinsDiscretizer.html\">?<span>Documentation for KBinsDiscretizer</span></a></div></label><div class=\"sk-toggleable__content fitted\"><pre>KBinsDiscretizer(encode=&#x27;ordinal&#x27;, strategy=&#x27;uniform&#x27;)</pre></div> </div></div></div></div></div></div></div><div class=\"sk-parallel-item\"><div class=\"sk-item\"><div class=\"sk-label-container\"><div class=\"sk-label fitted sk-toggleable\"><input class=\"sk-toggleable__control sk-hidden--visually\" id=\"sk-estimator-id-6\" type=\"checkbox\" ><label for=\"sk-estimator-id-6\" class=\"sk-toggleable__label fitted sk-toggleable__label-arrow\"><div><div>impute</div></div></label><div class=\"sk-toggleable__content fitted\"><pre>[&#x27;AVERAGE_DAILY_DEMAND_CASES&#x27;, &#x27;AVERAGE_ORDER_CYCLE_CASES&#x27;]</pre></div> </div></div><div class=\"sk-serial\"><div class=\"sk-item\"><div class=\"sk-estimator fitted sk-toggleable\"><input class=\"sk-toggleable__control sk-hidden--visually\" id=\"sk-estimator-id-7\" type=\"checkbox\" ><label for=\"sk-estimator-id-7\" class=\"sk-toggleable__label fitted sk-toggleable__label-arrow\"><div><div>SimpleImputer</div></div><div><a class=\"sk-estimator-doc-link fitted\" rel=\"noreferrer\" target=\"_blank\" href=\"https://scikit-learn.org/1.6/modules/generated/sklearn.impute.SimpleImputer.html\">?<span>Documentation for SimpleImputer</span></a></div></label><div class=\"sk-toggleable__content fitted\"><pre>SimpleImputer()</pre></div> </div></div></div></div></div><div class=\"sk-parallel-item\"><div class=\"sk-item\"><div class=\"sk-label-container\"><div class=\"sk-label fitted sk-toggleable\"><input class=\"sk-toggleable__control sk-hidden--visually\" id=\"sk-estimator-id-8\" type=\"checkbox\" ><label for=\"sk-estimator-id-8\" class=\"sk-toggleable__label fitted sk-toggleable__label-arrow\"><div><div>binning</div></div></label><div class=\"sk-toggleable__content fitted\"><pre>[&#x27;GIVEN_TIME_TO_LEAD_TIME_RATIO&#x27;, &#x27;PRODUCT_CLASSIFICATION&#x27;]</pre></div> </div></div><div class=\"sk-serial\"><div class=\"sk-item\"><div class=\"sk-estimator fitted sk-toggleable\"><input class=\"sk-toggleable__control sk-hidden--visually\" id=\"sk-estimator-id-9\" type=\"checkbox\" ><label for=\"sk-estimator-id-9\" class=\"sk-toggleable__label fitted sk-toggleable__label-arrow\"><div><div>KBinsDiscretizer</div></div><div><a class=\"sk-estimator-doc-link fitted\" rel=\"noreferrer\" target=\"_blank\" href=\"https://scikit-learn.org/1.6/modules/generated/sklearn.preprocessing.KBinsDiscretizer.html\">?<span>Documentation for KBinsDiscretizer</span></a></div></label><div class=\"sk-toggleable__content fitted\"><pre>KBinsDiscretizer(encode=&#x27;ordinal&#x27;, strategy=&#x27;uniform&#x27;)</pre></div> </div></div></div></div></div><div class=\"sk-parallel-item\"><div class=\"sk-item\"><div class=\"sk-label-container\"><div class=\"sk-label fitted sk-toggleable\"><input class=\"sk-toggleable__control sk-hidden--visually\" id=\"sk-estimator-id-10\" type=\"checkbox\" ><label for=\"sk-estimator-id-10\" class=\"sk-toggleable__label fitted sk-toggleable__label-arrow\"><div><div>polynomial</div></div></label><div class=\"sk-toggleable__content fitted\"><pre>[&#x27;PURCHASING_LEAD_TIME&#x27;, &#x27;TRANSIT_LEAD_TIME&#x27;, &#x27;GIVEN_TIME_TO_LEAD_TIME_RATIO&#x27;]</pre></div> </div></div><div class=\"sk-serial\"><div class=\"sk-item\"><div class=\"sk-estimator fitted sk-toggleable\"><input class=\"sk-toggleable__control sk-hidden--visually\" id=\"sk-estimator-id-11\" type=\"checkbox\" ><label for=\"sk-estimator-id-11\" class=\"sk-toggleable__label fitted sk-toggleable__label-arrow\"><div><div>PolynomialFeatures</div></div><div><a class=\"sk-estimator-doc-link fitted\" rel=\"noreferrer\" target=\"_blank\" href=\"https://scikit-learn.org/1.6/modules/generated/sklearn.preprocessing.PolynomialFeatures.html\">?<span>Documentation for PolynomialFeatures</span></a></div></label><div class=\"sk-toggleable__content fitted\"><pre>PolynomialFeatures(include_bias=False)</pre></div> </div></div></div></div></div><div class=\"sk-parallel-item\"><div class=\"sk-item\"><div class=\"sk-label-container\"><div class=\"sk-label fitted sk-toggleable\"><input class=\"sk-toggleable__control sk-hidden--visually\" id=\"sk-estimator-id-12\" type=\"checkbox\" ><label for=\"sk-estimator-id-12\" class=\"sk-toggleable__label fitted sk-toggleable__label-arrow\"><div><div>encode_categorical</div></div></label><div class=\"sk-toggleable__content fitted\"><pre>[&#x27;PRODUCT_CLASSIFICATION&#x27;, &#x27;DIVISION_NUMBER&#x27;, &#x27;DISTANCE_IN_MILES&#x27;, &#x27;PURCHASE_ORDER_TYPE&#x27;, &#x27;SHIP_FROM_VENDOR&#x27;, &#x27;LEAD_TIME_TO_DISTANCE_RATIO&#x27;]</pre></div> </div></div><div class=\"sk-serial\"><div class=\"sk-item\"><div class=\"sk-estimator fitted sk-toggleable\"><input class=\"sk-toggleable__control sk-hidden--visually\" id=\"sk-estimator-id-13\" type=\"checkbox\" ><label for=\"sk-estimator-id-13\" class=\"sk-toggleable__label fitted sk-toggleable__label-arrow\"><div><div>OneHotEncoder</div></div><div><a class=\"sk-estimator-doc-link fitted\" rel=\"noreferrer\" target=\"_blank\" href=\"https://scikit-learn.org/1.6/modules/generated/sklearn.preprocessing.OneHotEncoder.html\">?<span>Documentation for OneHotEncoder</span></a></div></label><div class=\"sk-toggleable__content fitted\"><pre>OneHotEncoder(handle_unknown=&#x27;ignore&#x27;, sparse_output=False)</pre></div> </div></div></div></div></div><div class=\"sk-parallel-item\"><div class=\"sk-item\"><div class=\"sk-label-container\"><div class=\"sk-label fitted sk-toggleable\"><input class=\"sk-toggleable__control sk-hidden--visually\" id=\"sk-estimator-id-14\" type=\"checkbox\" ><label for=\"sk-estimator-id-14\" class=\"sk-toggleable__label fitted sk-toggleable__label-arrow\"><div><div>drop_objects</div></div></label><div class=\"sk-toggleable__content fitted\"><pre>[&#x27;PURCHASE_ORDER_DUE_DATE&#x27;, &#x27;ORDER_DATE&#x27;, &#x27;DIVISION_CODE&#x27;, &#x27;RESERVABLE_INDICATOR&#x27;]</pre></div> </div></div><div class=\"sk-serial\"><div class=\"sk-item\"><div class=\"sk-estimator fitted sk-toggleable\"><input class=\"sk-toggleable__control sk-hidden--visually\" id=\"sk-estimator-id-15\" type=\"checkbox\" ><label for=\"sk-estimator-id-15\" class=\"sk-toggleable__label fitted sk-toggleable__label-arrow\"><div><div>drop</div></div></label><div class=\"sk-toggleable__content fitted\"><pre>drop</pre></div> </div></div></div></div></div><div class=\"sk-parallel-item\"><div class=\"sk-item\"><div class=\"sk-label-container\"><div class=\"sk-label fitted sk-toggleable\"><input class=\"sk-toggleable__control sk-hidden--visually\" id=\"sk-estimator-id-16\" type=\"checkbox\" ><label for=\"sk-estimator-id-16\" class=\"sk-toggleable__label fitted sk-toggleable__label-arrow\"><div><div>remainder</div></div></label><div class=\"sk-toggleable__content fitted\"><pre>[&#x27;ID&#x27;, &#x27;PRODUCT_NUMBER&#x27;, &#x27;COMPANY_VENDOR_NUMBER&#x27;, &#x27;ORDER_DAY_OF_WEEK&#x27;, &#x27;PURCHASE_FROM_VENDOR&#x27;, &#x27;AVERAGE_PRODUCT_ORDER_QUANTITY_MARKET&#x27;, &#x27;ORDER_QUANTITY_DEVIATION&#x27;, &#x27;DAYS_BETWEEN_ORDER_AND_DUE_DATE&#x27;, &#x27;DUE_DATE_WEEKDAY&#x27;, &#x27;PRODUCT_MARKET&#x27;, &#x27;PRODUCT_STATUS&#x27;]</pre></div> </div></div><div class=\"sk-serial\"><div class=\"sk-item\"><div class=\"sk-estimator fitted sk-toggleable\"><input class=\"sk-toggleable__control sk-hidden--visually\" id=\"sk-estimator-id-17\" type=\"checkbox\" ><label for=\"sk-estimator-id-17\" class=\"sk-toggleable__label fitted sk-toggleable__label-arrow\"><div><div>passthrough</div></div></label><div class=\"sk-toggleable__content fitted\"><pre>passthrough</pre></div> </div></div></div></div></div></div></div><div class=\"sk-item\"><div class=\"sk-estimator fitted sk-toggleable\"><input class=\"sk-toggleable__control sk-hidden--visually\" id=\"sk-estimator-id-18\" type=\"checkbox\" ><label for=\"sk-estimator-id-18\" class=\"sk-toggleable__label fitted sk-toggleable__label-arrow\"><div><div>StandardScaler</div></div><div><a class=\"sk-estimator-doc-link fitted\" rel=\"noreferrer\" target=\"_blank\" href=\"https://scikit-learn.org/1.6/modules/generated/sklearn.preprocessing.StandardScaler.html\">?<span>Documentation for StandardScaler</span></a></div></label><div class=\"sk-toggleable__content fitted\"><pre>StandardScaler()</pre></div> </div></div><div class=\"sk-item\"><div class=\"sk-estimator fitted sk-toggleable\"><input class=\"sk-toggleable__control sk-hidden--visually\" id=\"sk-estimator-id-19\" type=\"checkbox\" ><label for=\"sk-estimator-id-19\" class=\"sk-toggleable__label fitted sk-toggleable__label-arrow\"><div><div>KNeighborsClassifier</div></div><div><a class=\"sk-estimator-doc-link fitted\" rel=\"noreferrer\" target=\"_blank\" href=\"https://scikit-learn.org/1.6/modules/generated/sklearn.neighbors.KNeighborsClassifier.html\">?<span>Documentation for KNeighborsClassifier</span></a></div></label><div class=\"sk-toggleable__content fitted\"><pre>KNeighborsClassifier(metric=&#x27;euclidean&#x27;, n_neighbors=np.int64(8))</pre></div> </div></div></div></div></div></div></div><div class=\"sk-parallel-item\"><div class=\"sk-item\"><div class=\"sk-label-container\"><div class=\"sk-label fitted sk-toggleable\"><label>logistic_regression</label></div></div><div class=\"sk-serial\"><div class=\"sk-item\"><div class=\"sk-serial\"><div class=\"sk-item sk-dashed-wrapped\"><div class=\"sk-label-container\"><div class=\"sk-label fitted sk-toggleable\"><input class=\"sk-toggleable__control sk-hidden--visually\" id=\"sk-estimator-id-20\" type=\"checkbox\" ><label for=\"sk-estimator-id-20\" class=\"sk-toggleable__label fitted sk-toggleable__label-arrow\"><div><div>preprocessor: ColumnTransformer</div></div><div><a class=\"sk-estimator-doc-link fitted\" rel=\"noreferrer\" target=\"_blank\" href=\"https://scikit-learn.org/1.6/modules/generated/sklearn.compose.ColumnTransformer.html\">?<span>Documentation for preprocessor: ColumnTransformer</span></a></div></label><div class=\"sk-toggleable__content fitted\"><pre>ColumnTransformer(remainder=&#x27;passthrough&#x27;,\n",
       "                  transformers=[(&#x27;imputer&#x27;,\n",
       "                                 SimpleImputer(strategy=&#x27;most_frequent&#x27;),\n",
       "                                 [&#x27;AVERAGE_DAILY_DEMAND_CASES&#x27;,\n",
       "                                  &#x27;AVERAGE_VENDOR_ORDER_CYCLE_DAYS&#x27;,\n",
       "                                  &#x27;AVERAGE_ORDER_CYCLE_DAYS&#x27;]),\n",
       "                                (&#x27;encode_categorical&#x27;,\n",
       "                                 OneHotEncoder(drop=&#x27;first&#x27;,\n",
       "                                               handle_unknown=&#x27;ignore&#x27;),\n",
       "                                 [&#x27;ORDER_DAY_OF_WEEK&#x27;, &#x27;PURCHASE_ORDER_TYPE&#x27;,\n",
       "                                  &#x27;TRANSIT_LEAD_TIME&#x27;, &#x27;DUE_DATE_WEE...\n",
       "                                 [&#x27;DIVISION_CODE&#x27;, &#x27;RESERVABLE_INDICATOR&#x27;,\n",
       "                                  &#x27;PRODUCT_STATUS&#x27;,\n",
       "                                  &#x27;DAYS_BETWEEN_ORDER_AND_DUE_DATE&#x27;, &#x27;ID&#x27;,\n",
       "                                  &#x27;DIVISION_NUMBER&#x27;,\n",
       "                                  &#x27;AVERAGE_PRODUCT_ORDER_QUANTITY_MARKET&#x27;,\n",
       "                                  &#x27;AVERAGE_ORDER_CYCLE_CASES&#x27;, &#x27;ORDER_DATE&#x27;,\n",
       "                                  &#x27;PURCHASE_ORDER_DUE_DATE&#x27;]),\n",
       "                                (&#x27;skewed&#x27;, PowerTransformer(),\n",
       "                                 [&#x27;DISTANCE_IN_MILES&#x27;,\n",
       "                                  &#x27;AVERAGE_PRODUCT_ORDER_QUANTITY_MARKET&#x27;,\n",
       "                                  &#x27;ORDER_QUANTITY_DEVIATION&#x27;,\n",
       "                                  &#x27;PURCHASING_LEAD_TIME&#x27;])])</pre></div> </div></div><div class=\"sk-parallel\"><div class=\"sk-parallel-item\"><div class=\"sk-item\"><div class=\"sk-label-container\"><div class=\"sk-label fitted sk-toggleable\"><input class=\"sk-toggleable__control sk-hidden--visually\" id=\"sk-estimator-id-21\" type=\"checkbox\" ><label for=\"sk-estimator-id-21\" class=\"sk-toggleable__label fitted sk-toggleable__label-arrow\"><div><div>imputer</div></div></label><div class=\"sk-toggleable__content fitted\"><pre>[&#x27;AVERAGE_DAILY_DEMAND_CASES&#x27;, &#x27;AVERAGE_VENDOR_ORDER_CYCLE_DAYS&#x27;, &#x27;AVERAGE_ORDER_CYCLE_DAYS&#x27;]</pre></div> </div></div><div class=\"sk-serial\"><div class=\"sk-item\"><div class=\"sk-estimator fitted sk-toggleable\"><input class=\"sk-toggleable__control sk-hidden--visually\" id=\"sk-estimator-id-22\" type=\"checkbox\" ><label for=\"sk-estimator-id-22\" class=\"sk-toggleable__label fitted sk-toggleable__label-arrow\"><div><div>SimpleImputer</div></div><div><a class=\"sk-estimator-doc-link fitted\" rel=\"noreferrer\" target=\"_blank\" href=\"https://scikit-learn.org/1.6/modules/generated/sklearn.impute.SimpleImputer.html\">?<span>Documentation for SimpleImputer</span></a></div></label><div class=\"sk-toggleable__content fitted\"><pre>SimpleImputer(strategy=&#x27;most_frequent&#x27;)</pre></div> </div></div></div></div></div><div class=\"sk-parallel-item\"><div class=\"sk-item\"><div class=\"sk-label-container\"><div class=\"sk-label fitted sk-toggleable\"><input class=\"sk-toggleable__control sk-hidden--visually\" id=\"sk-estimator-id-23\" type=\"checkbox\" ><label for=\"sk-estimator-id-23\" class=\"sk-toggleable__label fitted sk-toggleable__label-arrow\"><div><div>encode_categorical</div></div></label><div class=\"sk-toggleable__content fitted\"><pre>[&#x27;ORDER_DAY_OF_WEEK&#x27;, &#x27;PURCHASE_ORDER_TYPE&#x27;, &#x27;TRANSIT_LEAD_TIME&#x27;, &#x27;DUE_DATE_WEEKDAY&#x27;]</pre></div> </div></div><div class=\"sk-serial\"><div class=\"sk-item\"><div class=\"sk-estimator fitted sk-toggleable\"><input class=\"sk-toggleable__control sk-hidden--visually\" id=\"sk-estimator-id-24\" type=\"checkbox\" ><label for=\"sk-estimator-id-24\" class=\"sk-toggleable__label fitted sk-toggleable__label-arrow\"><div><div>OneHotEncoder</div></div><div><a class=\"sk-estimator-doc-link fitted\" rel=\"noreferrer\" target=\"_blank\" href=\"https://scikit-learn.org/1.6/modules/generated/sklearn.preprocessing.OneHotEncoder.html\">?<span>Documentation for OneHotEncoder</span></a></div></label><div class=\"sk-toggleable__content fitted\"><pre>OneHotEncoder(drop=&#x27;first&#x27;, handle_unknown=&#x27;ignore&#x27;)</pre></div> </div></div></div></div></div><div class=\"sk-parallel-item\"><div class=\"sk-item\"><div class=\"sk-label-container\"><div class=\"sk-label fitted sk-toggleable\"><input class=\"sk-toggleable__control sk-hidden--visually\" id=\"sk-estimator-id-25\" type=\"checkbox\" ><label for=\"sk-estimator-id-25\" class=\"sk-toggleable__label fitted sk-toggleable__label-arrow\"><div><div>binning</div></div></label><div class=\"sk-toggleable__content fitted\"><pre>[&#x27;LEAD_TIME_TO_DISTANCE_RATIO&#x27;]</pre></div> </div></div><div class=\"sk-serial\"><div class=\"sk-item\"><div class=\"sk-estimator fitted sk-toggleable\"><input class=\"sk-toggleable__control sk-hidden--visually\" id=\"sk-estimator-id-26\" type=\"checkbox\" ><label for=\"sk-estimator-id-26\" class=\"sk-toggleable__label fitted sk-toggleable__label-arrow\"><div><div>KBinsDiscretizer</div></div><div><a class=\"sk-estimator-doc-link fitted\" rel=\"noreferrer\" target=\"_blank\" href=\"https://scikit-learn.org/1.6/modules/generated/sklearn.preprocessing.KBinsDiscretizer.html\">?<span>Documentation for KBinsDiscretizer</span></a></div></label><div class=\"sk-toggleable__content fitted\"><pre>KBinsDiscretizer(encode=&#x27;ordinal&#x27;, strategy=&#x27;uniform&#x27;)</pre></div> </div></div></div></div></div><div class=\"sk-parallel-item\"><div class=\"sk-item\"><div class=\"sk-label-container\"><div class=\"sk-label fitted sk-toggleable\"><input class=\"sk-toggleable__control sk-hidden--visually\" id=\"sk-estimator-id-27\" type=\"checkbox\" ><label for=\"sk-estimator-id-27\" class=\"sk-toggleable__label fitted sk-toggleable__label-arrow\"><div><div>drop_cols</div></div></label><div class=\"sk-toggleable__content fitted\"><pre>[&#x27;DIVISION_CODE&#x27;, &#x27;RESERVABLE_INDICATOR&#x27;, &#x27;PRODUCT_STATUS&#x27;, &#x27;DAYS_BETWEEN_ORDER_AND_DUE_DATE&#x27;, &#x27;ID&#x27;, &#x27;DIVISION_NUMBER&#x27;, &#x27;AVERAGE_PRODUCT_ORDER_QUANTITY_MARKET&#x27;, &#x27;AVERAGE_ORDER_CYCLE_CASES&#x27;, &#x27;ORDER_DATE&#x27;, &#x27;PURCHASE_ORDER_DUE_DATE&#x27;]</pre></div> </div></div><div class=\"sk-serial\"><div class=\"sk-item\"><div class=\"sk-estimator fitted sk-toggleable\"><input class=\"sk-toggleable__control sk-hidden--visually\" id=\"sk-estimator-id-28\" type=\"checkbox\" ><label for=\"sk-estimator-id-28\" class=\"sk-toggleable__label fitted sk-toggleable__label-arrow\"><div><div>drop</div></div></label><div class=\"sk-toggleable__content fitted\"><pre>drop</pre></div> </div></div></div></div></div><div class=\"sk-parallel-item\"><div class=\"sk-item\"><div class=\"sk-label-container\"><div class=\"sk-label fitted sk-toggleable\"><input class=\"sk-toggleable__control sk-hidden--visually\" id=\"sk-estimator-id-29\" type=\"checkbox\" ><label for=\"sk-estimator-id-29\" class=\"sk-toggleable__label fitted sk-toggleable__label-arrow\"><div><div>skewed</div></div></label><div class=\"sk-toggleable__content fitted\"><pre>[&#x27;DISTANCE_IN_MILES&#x27;, &#x27;AVERAGE_PRODUCT_ORDER_QUANTITY_MARKET&#x27;, &#x27;ORDER_QUANTITY_DEVIATION&#x27;, &#x27;PURCHASING_LEAD_TIME&#x27;]</pre></div> </div></div><div class=\"sk-serial\"><div class=\"sk-item\"><div class=\"sk-estimator fitted sk-toggleable\"><input class=\"sk-toggleable__control sk-hidden--visually\" id=\"sk-estimator-id-30\" type=\"checkbox\" ><label for=\"sk-estimator-id-30\" class=\"sk-toggleable__label fitted sk-toggleable__label-arrow\"><div><div>PowerTransformer</div></div><div><a class=\"sk-estimator-doc-link fitted\" rel=\"noreferrer\" target=\"_blank\" href=\"https://scikit-learn.org/1.6/modules/generated/sklearn.preprocessing.PowerTransformer.html\">?<span>Documentation for PowerTransformer</span></a></div></label><div class=\"sk-toggleable__content fitted\"><pre>PowerTransformer()</pre></div> </div></div></div></div></div><div class=\"sk-parallel-item\"><div class=\"sk-item\"><div class=\"sk-label-container\"><div class=\"sk-label fitted sk-toggleable\"><input class=\"sk-toggleable__control sk-hidden--visually\" id=\"sk-estimator-id-31\" type=\"checkbox\" ><label for=\"sk-estimator-id-31\" class=\"sk-toggleable__label fitted sk-toggleable__label-arrow\"><div><div>remainder</div></div></label><div class=\"sk-toggleable__content fitted\"><pre>[&#x27;PRODUCT_NUMBER&#x27;, &#x27;COMPANY_VENDOR_NUMBER&#x27;, &#x27;SHIP_FROM_VENDOR&#x27;, &#x27;PRODUCT_CLASSIFICATION&#x27;, &#x27;PURCHASE_FROM_VENDOR&#x27;, &#x27;GIVEN_TIME_TO_LEAD_TIME_RATIO&#x27;, &#x27;PRODUCT_MARKET&#x27;]</pre></div> </div></div><div class=\"sk-serial\"><div class=\"sk-item\"><div class=\"sk-estimator fitted sk-toggleable\"><input class=\"sk-toggleable__control sk-hidden--visually\" id=\"sk-estimator-id-32\" type=\"checkbox\" ><label for=\"sk-estimator-id-32\" class=\"sk-toggleable__label fitted sk-toggleable__label-arrow\"><div><div>passthrough</div></div></label><div class=\"sk-toggleable__content fitted\"><pre>passthrough</pre></div> </div></div></div></div></div></div></div><div class=\"sk-item\"><div class=\"sk-estimator fitted sk-toggleable\"><input class=\"sk-toggleable__control sk-hidden--visually\" id=\"sk-estimator-id-33\" type=\"checkbox\" ><label for=\"sk-estimator-id-33\" class=\"sk-toggleable__label fitted sk-toggleable__label-arrow\"><div><div>LogisticRegression</div></div><div><a class=\"sk-estimator-doc-link fitted\" rel=\"noreferrer\" target=\"_blank\" href=\"https://scikit-learn.org/1.6/modules/generated/sklearn.linear_model.LogisticRegression.html\">?<span>Documentation for LogisticRegression</span></a></div></label><div class=\"sk-toggleable__content fitted\"><pre>LogisticRegression(C=0.52641053, l1_ratio=0.21052632, penalty=&#x27;elasticnet&#x27;,\n",
       "                   solver=&#x27;saga&#x27;)</pre></div> </div></div></div></div></div></div></div><div class=\"sk-parallel-item\"><div class=\"sk-item\"><div class=\"sk-label-container\"><div class=\"sk-label fitted sk-toggleable\"><label>bagging</label></div></div><div class=\"sk-serial\"><div class=\"sk-item\"><div class=\"sk-serial\"><div class=\"sk-item sk-dashed-wrapped\"><div class=\"sk-label-container\"><div class=\"sk-label fitted sk-toggleable\"><input class=\"sk-toggleable__control sk-hidden--visually\" id=\"sk-estimator-id-34\" type=\"checkbox\" ><label for=\"sk-estimator-id-34\" class=\"sk-toggleable__label fitted sk-toggleable__label-arrow\"><div><div>preprocessor: ColumnTransformer</div></div><div><a class=\"sk-estimator-doc-link fitted\" rel=\"noreferrer\" target=\"_blank\" href=\"https://scikit-learn.org/1.6/modules/generated/sklearn.compose.ColumnTransformer.html\">?<span>Documentation for preprocessor: ColumnTransformer</span></a></div></label><div class=\"sk-toggleable__content fitted\"><pre>ColumnTransformer(transformers=[(&#x27;top_corrs&#x27;, &#x27;passthrough&#x27;,\n",
       "                                 [&#x27;PRODUCT_CLASSIFICATION&#x27;,\n",
       "                                  &#x27;COMPANY_VENDOR_NUMBER&#x27;,\n",
       "                                  &#x27;PURCHASE_FROM_VENDOR&#x27;,\n",
       "                                  &#x27;PURCHASING_LEAD_TIME&#x27;,\n",
       "                                  &#x27;DAYS_BETWEEN_ORDER_AND_DUE_DATE&#x27;,\n",
       "                                  &#x27;TRANSIT_LEAD_TIME&#x27;, &#x27;DISTANCE_IN_MILES&#x27;,\n",
       "                                  &#x27;AVERAGE_ORDER_CYCLE_DAYS&#x27;,\n",
       "                                  &#x27;GIVEN_TIME_TO_LEAD_TIME_RATIO&#x27;,\n",
       "                                  &#x27;AVERAGE_PRODUCT_ORDER_QUANTITY_MARKET&#x27;,\n",
       "                                  &#x27;AVERAGE_DAILY_DEMAND_CASES&#x27;,\n",
       "                                  &#x27;AVERAGE_VENDOR_ORDER_CYCLE_DAYS&#x27;,\n",
       "                                  &#x27;SHIP_FROM_VENDOR&#x27;,\n",
       "                                  &#x27;LEAD_TIME_TO_DISTANCE_RATIO&#x27;,\n",
       "                                  &#x27;ORDER_DAY_OF_WEEK&#x27;, &#x27;DIVISION_NUMBER&#x27;,\n",
       "                                  &#x27;PRODUCT_MARKET&#x27;, &#x27;DUE_DATE_WEEKDAY&#x27;,\n",
       "                                  &#x27;PRODUCT_NUMBER&#x27;, &#x27;PURCHASE_ORDER_TYPE&#x27;])])</pre></div> </div></div><div class=\"sk-parallel\"><div class=\"sk-parallel-item\"><div class=\"sk-item\"><div class=\"sk-label-container\"><div class=\"sk-label fitted sk-toggleable\"><input class=\"sk-toggleable__control sk-hidden--visually\" id=\"sk-estimator-id-35\" type=\"checkbox\" ><label for=\"sk-estimator-id-35\" class=\"sk-toggleable__label fitted sk-toggleable__label-arrow\"><div><div>top_corrs</div></div></label><div class=\"sk-toggleable__content fitted\"><pre>[&#x27;PRODUCT_CLASSIFICATION&#x27;, &#x27;COMPANY_VENDOR_NUMBER&#x27;, &#x27;PURCHASE_FROM_VENDOR&#x27;, &#x27;PURCHASING_LEAD_TIME&#x27;, &#x27;DAYS_BETWEEN_ORDER_AND_DUE_DATE&#x27;, &#x27;TRANSIT_LEAD_TIME&#x27;, &#x27;DISTANCE_IN_MILES&#x27;, &#x27;AVERAGE_ORDER_CYCLE_DAYS&#x27;, &#x27;GIVEN_TIME_TO_LEAD_TIME_RATIO&#x27;, &#x27;AVERAGE_PRODUCT_ORDER_QUANTITY_MARKET&#x27;, &#x27;AVERAGE_DAILY_DEMAND_CASES&#x27;, &#x27;AVERAGE_VENDOR_ORDER_CYCLE_DAYS&#x27;, &#x27;SHIP_FROM_VENDOR&#x27;, &#x27;LEAD_TIME_TO_DISTANCE_RATIO&#x27;, &#x27;ORDER_DAY_OF_WEEK&#x27;, &#x27;DIVISION_NUMBER&#x27;, &#x27;PRODUCT_MARKET&#x27;, &#x27;DUE_DATE_WEEKDAY&#x27;, &#x27;PRODUCT_NUMBER&#x27;, &#x27;PURCHASE_ORDER_TYPE&#x27;]</pre></div> </div></div><div class=\"sk-serial\"><div class=\"sk-item\"><div class=\"sk-estimator fitted sk-toggleable\"><input class=\"sk-toggleable__control sk-hidden--visually\" id=\"sk-estimator-id-36\" type=\"checkbox\" ><label for=\"sk-estimator-id-36\" class=\"sk-toggleable__label fitted sk-toggleable__label-arrow\"><div><div>passthrough</div></div></label><div class=\"sk-toggleable__content fitted\"><pre>passthrough</pre></div> </div></div></div></div></div></div></div><div class=\"sk-item\"><div class=\"sk-estimator fitted sk-toggleable\"><input class=\"sk-toggleable__control sk-hidden--visually\" id=\"sk-estimator-id-37\" type=\"checkbox\" ><label for=\"sk-estimator-id-37\" class=\"sk-toggleable__label fitted sk-toggleable__label-arrow\"><div><div>BaggingClassifier</div></div><div><a class=\"sk-estimator-doc-link fitted\" rel=\"noreferrer\" target=\"_blank\" href=\"https://scikit-learn.org/1.6/modules/generated/sklearn.ensemble.BaggingClassifier.html\">?<span>Documentation for BaggingClassifier</span></a></div></label><div class=\"sk-toggleable__content fitted\"><pre>BaggingClassifier(bootstrap_features=True, max_features=0.5, max_samples=0.5,\n",
       "                  n_estimators=100)</pre></div> </div></div></div></div></div></div></div><div class=\"sk-parallel-item\"><div class=\"sk-item\"><div class=\"sk-label-container\"><div class=\"sk-label fitted sk-toggleable\"><label>boosting</label></div></div><div class=\"sk-serial\"><div class=\"sk-item\"><div class=\"sk-serial\"><div class=\"sk-item sk-dashed-wrapped\"><div class=\"sk-label-container\"><div class=\"sk-label fitted sk-toggleable\"><input class=\"sk-toggleable__control sk-hidden--visually\" id=\"sk-estimator-id-38\" type=\"checkbox\" ><label for=\"sk-estimator-id-38\" class=\"sk-toggleable__label fitted sk-toggleable__label-arrow\"><div><div>preprocessor: ColumnTransformer</div></div><div><a class=\"sk-estimator-doc-link fitted\" rel=\"noreferrer\" target=\"_blank\" href=\"https://scikit-learn.org/1.6/modules/generated/sklearn.compose.ColumnTransformer.html\">?<span>Documentation for preprocessor: ColumnTransformer</span></a></div></label><div class=\"sk-toggleable__content fitted\"><pre>ColumnTransformer(remainder=&#x27;passthrough&#x27;,\n",
       "                  transformers=[(&#x27;drop&#x27;, &#x27;drop&#x27;,\n",
       "                                 [&#x27;DIVISION_CODE&#x27;, &#x27;RESERVABLE_INDICATOR&#x27;,\n",
       "                                  &#x27;PRODUCT_STATUS&#x27;, &#x27;ORDER_DATE&#x27;,\n",
       "                                  &#x27;PURCHASE_ORDER_DUE_DATE&#x27;, &#x27;ID&#x27;])])</pre></div> </div></div><div class=\"sk-parallel\"><div class=\"sk-parallel-item\"><div class=\"sk-item\"><div class=\"sk-label-container\"><div class=\"sk-label fitted sk-toggleable\"><input class=\"sk-toggleable__control sk-hidden--visually\" id=\"sk-estimator-id-39\" type=\"checkbox\" ><label for=\"sk-estimator-id-39\" class=\"sk-toggleable__label fitted sk-toggleable__label-arrow\"><div><div>drop</div></div></label><div class=\"sk-toggleable__content fitted\"><pre>[&#x27;DIVISION_CODE&#x27;, &#x27;RESERVABLE_INDICATOR&#x27;, &#x27;PRODUCT_STATUS&#x27;, &#x27;ORDER_DATE&#x27;, &#x27;PURCHASE_ORDER_DUE_DATE&#x27;, &#x27;ID&#x27;]</pre></div> </div></div><div class=\"sk-serial\"><div class=\"sk-item\"><div class=\"sk-estimator fitted sk-toggleable\"><input class=\"sk-toggleable__control sk-hidden--visually\" id=\"sk-estimator-id-40\" type=\"checkbox\" ><label for=\"sk-estimator-id-40\" class=\"sk-toggleable__label fitted sk-toggleable__label-arrow\"><div><div>drop</div></div></label><div class=\"sk-toggleable__content fitted\"><pre>drop</pre></div> </div></div></div></div></div><div class=\"sk-parallel-item\"><div class=\"sk-item\"><div class=\"sk-label-container\"><div class=\"sk-label fitted sk-toggleable\"><input class=\"sk-toggleable__control sk-hidden--visually\" id=\"sk-estimator-id-41\" type=\"checkbox\" ><label for=\"sk-estimator-id-41\" class=\"sk-toggleable__label fitted sk-toggleable__label-arrow\"><div><div>remainder</div></div></label><div class=\"sk-toggleable__content fitted\"><pre>[&#x27;DIVISION_NUMBER&#x27;, &#x27;PRODUCT_NUMBER&#x27;, &#x27;COMPANY_VENDOR_NUMBER&#x27;, &#x27;SHIP_FROM_VENDOR&#x27;, &#x27;ORDER_DAY_OF_WEEK&#x27;, &#x27;PRODUCT_CLASSIFICATION&#x27;, &#x27;PURCHASE_ORDER_TYPE&#x27;, &#x27;DISTANCE_IN_MILES&#x27;, &#x27;PURCHASE_FROM_VENDOR&#x27;, &#x27;AVERAGE_PRODUCT_ORDER_QUANTITY_MARKET&#x27;, &#x27;ORDER_QUANTITY_DEVIATION&#x27;, &#x27;TRANSIT_LEAD_TIME&#x27;, &#x27;PURCHASING_LEAD_TIME&#x27;, &#x27;DAYS_BETWEEN_ORDER_AND_DUE_DATE&#x27;, &#x27;GIVEN_TIME_TO_LEAD_TIME_RATIO&#x27;, &#x27;DUE_DATE_WEEKDAY&#x27;, &#x27;PRODUCT_MARKET&#x27;, &#x27;AVERAGE_DAILY_DEMAND_CASES&#x27;, &#x27;AVERAGE_VENDOR_ORDER_CYCLE_DAYS&#x27;, &#x27;AVERAGE_ORDER_CYCLE_DAYS&#x27;, &#x27;AVERAGE_ORDER_CYCLE_CASES&#x27;, &#x27;LEAD_TIME_TO_DISTANCE_RATIO&#x27;]</pre></div> </div></div><div class=\"sk-serial\"><div class=\"sk-item\"><div class=\"sk-estimator fitted sk-toggleable\"><input class=\"sk-toggleable__control sk-hidden--visually\" id=\"sk-estimator-id-42\" type=\"checkbox\" ><label for=\"sk-estimator-id-42\" class=\"sk-toggleable__label fitted sk-toggleable__label-arrow\"><div><div>passthrough</div></div></label><div class=\"sk-toggleable__content fitted\"><pre>passthrough</pre></div> </div></div></div></div></div></div></div><div class=\"sk-item\"><div class=\"sk-estimator fitted sk-toggleable\"><input class=\"sk-toggleable__control sk-hidden--visually\" id=\"sk-estimator-id-43\" type=\"checkbox\" ><label for=\"sk-estimator-id-43\" class=\"sk-toggleable__label fitted sk-toggleable__label-arrow\"><div><div>LGBMClassifier</div></div></label><div class=\"sk-toggleable__content fitted\"><pre>LGBMClassifier(bagging_fraction=0.7461616073499773, bagging_freq=7,\n",
       "               feature_fraction=0.41751919689550565,\n",
       "               lambda_l1=1.1672465647983294, lambda_l2=5,\n",
       "               learning_rate=0.03813597268507302, max_depth=7,\n",
       "               min_data_in_leaf=84, min_split_gain=0.04485197937078586,\n",
       "               n_estimators=250, num_leaves=183, verbose=-1)</pre></div> </div></div></div></div></div></div></div></div></div><div class=\"sk-item\"><div class=\"sk-parallel\"><div class=\"sk-parallel-item\"><div class=\"sk-item\"><div class=\"sk-label-container\"><div class=\"sk-label fitted sk-toggleable\"><label>final_estimator</label></div></div><div class=\"sk-serial\"><div class=\"sk-item\"><div class=\"sk-estimator fitted sk-toggleable\"><input class=\"sk-toggleable__control sk-hidden--visually\" id=\"sk-estimator-id-44\" type=\"checkbox\" ><label for=\"sk-estimator-id-44\" class=\"sk-toggleable__label fitted sk-toggleable__label-arrow\"><div><div>LogisticRegression</div></div><div><a class=\"sk-estimator-doc-link fitted\" rel=\"noreferrer\" target=\"_blank\" href=\"https://scikit-learn.org/1.6/modules/generated/sklearn.linear_model.LogisticRegression.html\">?<span>Documentation for LogisticRegression</span></a></div></label><div class=\"sk-toggleable__content fitted\"><pre>LogisticRegression()</pre></div> </div></div></div></div></div></div></div></div></div></div></div>"
      ],
      "text/plain": [
       "StackingClassifier(estimators=[('knn',\n",
       "                                Pipeline(steps=[('preprocessor',\n",
       "                                                 ColumnTransformer(remainder='passthrough',\n",
       "                                                                   transformers=[('impute_then_bin',\n",
       "                                                                                  Pipeline(steps=[('imputer',\n",
       "                                                                                                   SimpleImputer()),\n",
       "                                                                                                  ('binner',\n",
       "                                                                                                   KBinsDiscretizer(encode='ordinal',\n",
       "                                                                                                                    strategy='uniform'))]),\n",
       "                                                                                  ['AVERAGE_VENDOR_ORDER_CYCLE_DAYS',\n",
       "                                                                                   'AVERAGE_ORDER_CYCLE_DAYS']),\n",
       "                                                                                 ('impute',\n",
       "                                                                                  SimpleImputer(),\n",
       "                                                                                  ['AV...\n",
       "                                                                                   'ID'])])),\n",
       "                                                ('classifier',\n",
       "                                                 LGBMClassifier(bagging_fraction=0.7461616073499773,\n",
       "                                                                bagging_freq=7,\n",
       "                                                                feature_fraction=0.41751919689550565,\n",
       "                                                                lambda_l1=1.1672465647983294,\n",
       "                                                                lambda_l2=5,\n",
       "                                                                learning_rate=0.03813597268507302,\n",
       "                                                                max_depth=7,\n",
       "                                                                min_data_in_leaf=84,\n",
       "                                                                min_split_gain=0.04485197937078586,\n",
       "                                                                n_estimators=250,\n",
       "                                                                num_leaves=183,\n",
       "                                                                verbose=-1))]))],\n",
       "                   final_estimator=LogisticRegression())"
      ]
     },
     "execution_count": 75,
     "metadata": {},
     "output_type": "execute_result"
    }
   ],
   "source": [
    "stacking_classifier.fit(X_train, y_train)"
   ]
  },
  {
   "cell_type": "code",
   "execution_count": 76,
   "id": "e0129a5b",
   "metadata": {},
   "outputs": [
    {
     "name": "stderr",
     "output_type": "stream",
     "text": [
      "/Users/lizzymarino/anaconda3/envs/cenv2/lib/python3.13/site-packages/sklearn/utils/validation.py:2739: UserWarning: X does not have valid feature names, but LGBMClassifier was fitted with feature names\n",
      "  warnings.warn(\n"
     ]
    },
    {
     "name": "stdout",
     "output_type": "stream",
     "text": [
      "Train accuracy: 0.8569\n",
      "Test accuracy: 0.8327\n"
     ]
    },
    {
     "name": "stderr",
     "output_type": "stream",
     "text": [
      "/Users/lizzymarino/anaconda3/envs/cenv2/lib/python3.13/site-packages/sklearn/utils/validation.py:2739: UserWarning: X does not have valid feature names, but LGBMClassifier was fitted with feature names\n",
      "  warnings.warn(\n"
     ]
    }
   ],
   "source": [
    "print(f'Train accuracy: {accuracy_score(y_train, stacking_classifier.predict(X_train)):.4f}')\n",
    "print(f'Test accuracy: {accuracy_score(y_test, stacking_classifier.predict(X_test)):.4f}')"
   ]
  },
  {
   "cell_type": "markdown",
   "id": "12afa0b5",
   "metadata": {},
   "source": [
    "Tune the regularization hyperparameter:"
   ]
  },
  {
   "cell_type": "code",
   "execution_count": null,
   "id": "5862fdbd",
   "metadata": {},
   "outputs": [],
   "source": [
    "stacking_bayes.fit(X_train, y_train)"
   ]
  },
  {
   "cell_type": "code",
   "execution_count": 80,
   "id": "87fa314c",
   "metadata": {},
   "outputs": [
    {
     "data": {
      "text/plain": [
       "OrderedDict([('final_estimator__C', 11.065843210137139)])"
      ]
     },
     "execution_count": 80,
     "metadata": {},
     "output_type": "execute_result"
    }
   ],
   "source": [
    "stacking_bayes.best_params_"
   ]
  },
  {
   "cell_type": "markdown",
   "id": "9bfee01e",
   "metadata": {},
   "source": [
    "The best C value is **11.065843210137139**"
   ]
  },
  {
   "cell_type": "code",
   "execution_count": 81,
   "id": "fc1b525b",
   "metadata": {},
   "outputs": [
    {
     "name": "stderr",
     "output_type": "stream",
     "text": [
      "/Users/lizzymarino/anaconda3/envs/cenv2/lib/python3.13/site-packages/sklearn/utils/validation.py:2739: UserWarning: X does not have valid feature names, but LGBMClassifier was fitted with feature names\n",
      "  warnings.warn(\n"
     ]
    },
    {
     "name": "stdout",
     "output_type": "stream",
     "text": [
      "Train accuracy: 0.8548\n",
      "Test accuracy: 0.8322\n"
     ]
    },
    {
     "name": "stderr",
     "output_type": "stream",
     "text": [
      "/Users/lizzymarino/anaconda3/envs/cenv2/lib/python3.13/site-packages/sklearn/utils/validation.py:2739: UserWarning: X does not have valid feature names, but LGBMClassifier was fitted with feature names\n",
      "  warnings.warn(\n"
     ]
    }
   ],
   "source": [
    "print(f'Train accuracy: {accuracy_score(y_train, stacking_bayes.best_estimator_.predict(X_train)):.4f}')\n",
    "print(f'Test accuracy: {accuracy_score(y_test, stacking_bayes.best_estimator_.predict(X_test)):.4f}')"
   ]
  },
  {
   "cell_type": "markdown",
   "id": "2ed31be4",
   "metadata": {},
   "source": [
    "Look at meta model coefficients:"
   ]
  },
  {
   "cell_type": "code",
   "execution_count": 86,
   "id": "57d9e456",
   "metadata": {},
   "outputs": [
    {
     "data": {
      "text/html": [
       "<div>\n",
       "<style scoped>\n",
       "    .dataframe tbody tr th:only-of-type {\n",
       "        vertical-align: middle;\n",
       "    }\n",
       "\n",
       "    .dataframe tbody tr th {\n",
       "        vertical-align: top;\n",
       "    }\n",
       "\n",
       "    .dataframe thead th {\n",
       "        text-align: right;\n",
       "    }\n",
       "</style>\n",
       "<table border=\"1\" class=\"dataframe\">\n",
       "  <thead>\n",
       "    <tr style=\"text-align: right;\">\n",
       "      <th></th>\n",
       "      <th>Base Learner</th>\n",
       "      <th>Meta Model Coefficient</th>\n",
       "    </tr>\n",
       "  </thead>\n",
       "  <tbody>\n",
       "    <tr>\n",
       "      <th>3</th>\n",
       "      <td>boosting</td>\n",
       "      <td>4.561875</td>\n",
       "    </tr>\n",
       "    <tr>\n",
       "      <th>0</th>\n",
       "      <td>knn</td>\n",
       "      <td>1.170416</td>\n",
       "    </tr>\n",
       "    <tr>\n",
       "      <th>2</th>\n",
       "      <td>bagging</td>\n",
       "      <td>0.668210</td>\n",
       "    </tr>\n",
       "    <tr>\n",
       "      <th>1</th>\n",
       "      <td>logistic_regression</td>\n",
       "      <td>-1.002871</td>\n",
       "    </tr>\n",
       "  </tbody>\n",
       "</table>\n",
       "</div>"
      ],
      "text/plain": [
       "          Base Learner  Meta Model Coefficient\n",
       "3             boosting                4.561875\n",
       "0                  knn                1.170416\n",
       "2              bagging                0.668210\n",
       "1  logistic_regression               -1.002871"
      ]
     },
     "execution_count": 86,
     "metadata": {},
     "output_type": "execute_result"
    }
   ],
   "source": [
    "stacking_coefs = {}\n",
    "\n",
    "stacking_coefs['Base Learner'] = [name for name, _ in base_learners]\n",
    "stacking_coefs['Meta Model Coefficient'] = stacking_bayes.best_estimator_.final_estimator_.coef_[0]\n",
    "\n",
    "pd.DataFrame(stacking_coefs).sort_values(by = 'Meta Model Coefficient').sort_values(by = 'Meta Model Coefficient', ascending = False)"
   ]
  },
  {
   "cell_type": "markdown",
   "id": "8e104de7",
   "metadata": {},
   "source": [
    "## 4) Final Model Training & Prediction\n",
    "\n",
    "Retrain your final model using the best hyperparameters from the tuning step, and generate predictions for evaluation.  \n",
    "Make sure to include code for both training and prediction, along with the evaluation metric (e.g., MAE).\n"
   ]
  },
  {
   "cell_type": "code",
   "execution_count": 83,
   "id": "2896793f",
   "metadata": {},
   "outputs": [
    {
     "name": "stderr",
     "output_type": "stream",
     "text": [
      "/Users/lizzymarino/anaconda3/envs/cenv2/lib/python3.13/site-packages/sklearn/preprocessing/_encoders.py:246: UserWarning: Found unknown categories in columns [2] during transform. These unknown categories will be encoded as all zeros\n",
      "  warnings.warn(\n",
      "/Users/lizzymarino/anaconda3/envs/cenv2/lib/python3.13/site-packages/sklearn/utils/validation.py:2739: UserWarning: X does not have valid feature names, but LGBMClassifier was fitted with feature names\n",
      "  warnings.warn(\n"
     ]
    }
   ],
   "source": [
    "public_private_X = pd.read_csv('../Datasets/public_private_X.csv')\n",
    "submission = pd.DataFrame()\n",
    "submission['ID'] = public_private_X['ID']\n",
    "\n",
    "output_prediction = stacking_bayes.best_estimator_.predict(public_private_X)\n",
    "\n",
    "submission['ON_TIME_AND_COMPLETE'] = output_prediction\n",
    "submission.to_csv('Submissions/final.csv', index = False)"
   ]
  },
  {
   "cell_type": "markdown",
   "id": "5bfe7496",
   "metadata": {},
   "source": [
    "## 5) Justification for Final Model Credit\n",
    "\n",
    "Explain why this model goes beyond the boosting model, even if the performance is not better.  \n",
    "Highlight any techniques you applied—such as stacking, voting, extensive tuning, or any other technique that you tried—that reflect a meaningful effort beyond what was done for the boosting model.\n",
    "\n",
    "**Example justification:**\n",
    "\n",
    "*I applied stacking with multiple base models and meta-learning. I also tuned all components using Optuna. Although the leaderboard score did not surpass the boosting model, this work demonstrates a thoughtful attempt and applies techniques covered in class.*\n"
   ]
  },
  {
   "cell_type": "markdown",
   "id": "544e0b17",
   "metadata": {},
   "source": [
    "This model goes beyong the boosting model because it is a stacking model that uses 4 base learners and a logistic regression metamodel with a tuned regularization hyperparameter. This utilizes multiple different models covered in class, as well as Bayes search for hyperparameter tuning."
   ]
  },
  {
   "cell_type": "markdown",
   "id": "00158a19",
   "metadata": {},
   "source": [
    "## 6) Comparison with Boosting Model\n",
    "\n",
    "Was your final model better than your previously submitted boosting model?\n",
    "\n",
    "> **Yes / No**  \n",
    "> _Brief explanation:_ What metric(s) did you use to compare? Did the final model improve MAE on cross-validation or the leaderboard? If not, why do you think that happened?\n"
   ]
  },
  {
   "cell_type": "markdown",
   "id": "819f1682",
   "metadata": {},
   "source": [
    "As seen in the metamodel coefficients, the boosting model is heavily weighted over the different models. As such, it will behave very similarly to the boosting model. This model performed the same as the boosting model, which makes sense because of this."
   ]
  },
  {
   "cell_type": "markdown",
   "id": "29eccea2",
   "metadata": {},
   "source": [
    "## 7) Key Takeaways (Short Reflection)\n",
    "\n",
    "- Provide a brief summary of your key takeaways from working on this prediction problem.\n",
    "- Reflect on any challenges you faced and lessons you learned during the model-building process.\n",
    "- You may also include insights about what worked well, what didn’t, and what you might do differently in future projects."
   ]
  },
  {
   "cell_type": "markdown",
   "id": "76adbff4",
   "metadata": {},
   "source": [
    "Working with many different base models gave me great insight into how each behaves differently. Each base model needed different preprocessing – some models needed categorical encoding while others natively handle categories, I also found that models performed better with different types of numerical preprocessing. Logistic regression greatly benefitted from binning and power transformations to offset skew.  \n",
    "In putting all of these models together for stacking classification, I could see how models were weighted differently based on their performance.  \n",
    "I tended to have issues with overfitting, where my model would perform drastically better on the test set made from train_test_split than it would on the kaggle public set, and it would perform slightly better on the kaggle public set than the kaggle private set. The differences between the kaggle public and private sets were small enough to be due to randomness, but I found a few ways to offset the obvious overfitting between my test set and the kaggle public set: I dropped columns with too many categorical variables. I utilized more regularization – I increased the lower bounds of the search space for the l1 and l2 regularization hyperparameters. This slightly decreased performance on my validation set but noticeably increased performance on the kaggle set.  \n",
    "In future projects, I will apply what I've learned about combatting overfitting and about combining diversified base learners."
   ]
  }
 ],
 "metadata": {
  "kernelspec": {
   "display_name": "cenv2",
   "language": "python",
   "name": "python3"
  },
  "language_info": {
   "codemirror_mode": {
    "name": "ipython",
    "version": 3
   },
   "file_extension": ".py",
   "mimetype": "text/x-python",
   "name": "python",
   "nbconvert_exporter": "python",
   "pygments_lexer": "ipython3",
   "version": "3.13.1"
  }
 },
 "nbformat": 4,
 "nbformat_minor": 5
}
