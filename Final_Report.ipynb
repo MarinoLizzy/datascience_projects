{
 "cells": [
  {
   "cell_type": "raw",
   "id": "b1c13c80",
   "metadata": {
    "vscode": {
     "languageId": "raw"
    }
   },
   "source": [
    "---\n",
    "title: \"Prediction Problem Final Report\"\n",
    "format: \n",
    "  html:\n",
    "    toc: true\n",
    "    toc-title: Contents\n",
    "    toc-depth: 4\n",
    "    code-fold: show\n",
    "    self-contained: true\n",
    "    html-math-method: mathml \n",
    "jupyter: python3\n",
    "---"
   ]
  },
  {
   "cell_type": "code",
   "execution_count": 1,
   "id": "4b3c90cc",
   "metadata": {},
   "outputs": [],
   "source": [
    "import pandas as pd\n",
    "import seaborn as sns\n",
    "import numpy as np\n",
    "import seaborn as sns\n",
    "import matplotlib.pyplot as plt\n",
    "import statsmodels.formula.api as sm\n",
    "from sklearn.metrics import precision_recall_curve, roc_curve, auc, accuracy_score\n",
    "from sklearn.linear_model import LogisticRegression\n",
    "from sklearn.preprocessing import OneHotEncoder, StandardScaler, PolynomialFeatures\n",
    "from scipy.stats import skew\n",
    "from statsmodels.stats.outliers_influence import variance_inflation_factor\n",
    "from sklearn.model_selection import KFold\n",
    "from sklearn.linear_model import LogisticRegressionCV #LinearRegression, RidgeCV, Ridge, LassoCV, Lasso, ElasticNetCV,"
   ]
  },
  {
   "cell_type": "code",
   "execution_count": 2,
   "id": "a049143b",
   "metadata": {},
   "outputs": [],
   "source": [
    "public_private_X = pd.read_csv('../Datasets/public_private_X.csv')\n",
    "sample_submission = pd.read_csv('../Datasets/sample_submission.csv')\n",
    "train_X = pd.read_csv('../Datasets/train_X.csv')\n",
    "train_y = pd.read_csv('../Datasets/train_y.csv')"
   ]
  },
  {
   "attachments": {},
   "cell_type": "markdown",
   "id": "3b5d4b16",
   "metadata": {},
   "source": [
    "## 1) Data Preprocessing"
   ]
  },
  {
   "attachments": {},
   "cell_type": "markdown",
   "id": "026893d5",
   "metadata": {},
   "source": [
    "I visualized each column individually as a histogram using sns. I processed each column based on its histogram. I dropped columns where all values were the same, binned some of the columns, transformed columns with a skewed distribution, and imputed values into columns with missingness. I then determined the variance inflation factor of each column using statsmodels, iteratively dropping the column with the highest VIF until I have dropped four columns.  "
   ]
  },
  {
   "cell_type": "code",
   "execution_count": 3,
   "id": "73be6452",
   "metadata": {},
   "outputs": [],
   "source": [
    "def preprocess(df_in, drop_unsure_cat = False):\n",
    "    df = df_in.copy()\n",
    "    \n",
    "    #Drop columns with no information\n",
    "    df.drop(columns = ['ID', 'DIVISION_CODE', 'RESERVABLE_INDICATOR', 'PRODUCT_STATUS'], inplace = True)\n",
    "    \n",
    "    #Bin some of the columns\n",
    "    df['PURCHASE_ORDER_DUE_DATE'] = pd.qcut(pd.to_datetime(df['PURCHASE_ORDER_DUE_DATE']), 25, retbins = True, labels = list(range(1, 51, 2)))[0]\n",
    "    df['GIVEN_TIME_TO_LEAD_RATIO'] = pd.cut(df['GIVEN_TIME_TO_LEAD_TIME_RATIO'], bins = [-10000, 0.999, 1.0001, 10000], labels = ['small', 'one', 'high'], retbins = True)[0]\n",
    "    df['AVERAGE_VENDOR_ORDER_CYCLE_DAYS'] = pd.cut(df['AVERAGE_VENDOR_ORDER_CYCLE_DAYS'],bins = [-1, 6.9, 7.1, 14, 500], labels = [0, 1, 2, 3], retbins = True)[0]\n",
    "    df['AVERAGE_ORDER_CYCLE_DAYS'] = pd.cut(df['AVERAGE_ORDER_CYCLE_DAYS'], bins = [-1, 6.9, 7.1, 14, 1_000], labels = [0, 1, 2, 3], retbins = True)[0]\n",
    "    df['LEAD_TIME_TO_DISTANCE_RATIO'] = pd.qcut(df['LEAD_TIME_TO_DISTANCE_RATIO'], 10, retbins = True, labels = list(range(1, 11)))[0]\n",
    "\n",
    "    #Transform skewed columns (all are right skewed, I determined which was the best form using scipy.stats.skew)\n",
    "    df['DISTANCE_IN_MILES'] = np.sqrt(df['DISTANCE_IN_MILES'])\n",
    "    df['AVERAGE_PRODUCT_ORDER_QUANTITY_MARKET'] = np.log(df['AVERAGE_PRODUCT_ORDER_QUANTITY_MARKET'])\n",
    "    df['ORDER_QUANTITY_DEVIATION'] = np.sqrt(df['ORDER_QUANTITY_DEVIATION'])\n",
    "    df['PURCHASING_LEAD_TIME'] = np.log(df['PURCHASING_LEAD_TIME'])\n",
    "    df['DAYS_BETWEEN_ORDER_AND_DUE_DATE'] = df['DAYS_BETWEEN_ORDER_AND_DUE_DATE'] ** (1/3)\n",
    "    df['AVERAGE_DAILY_DEMAND_CASES'] = np.log(df['AVERAGE_DAILY_DEMAND_CASES'])\n",
    "    df['AVERAGE_ORDER_CYCLE_CASES'] = np.log(df['AVERAGE_ORDER_CYCLE_CASES'])\n",
    "\n",
    "    #Transform and then bin\n",
    "    df['TRANSIT_LEAD_TIME'] =  df['TRANSIT_LEAD_TIME'] ** (1/3)\n",
    "    df['TRANSIT_LEAD_TIME'] = pd.cut(df['TRANSIT_LEAD_TIME'], bins = [-0.1, 0.9, 2, 10], labels = ['zero', 'low', 'high'], retbins = True)[0]\n",
    "\n",
    "    #Impute some columns (using median imputation for all)\n",
    "    colums_to_median_impute = ['AVERAGE_DAILY_DEMAND_CASES', 'AVERAGE_VENDOR_ORDER_CYCLE_DAYS', 'AVERAGE_ORDER_CYCLE_DAYS', 'AVERAGE_ORDER_CYCLE_CASES']\n",
    "    for col in  colums_to_median_impute:\n",
    "        median = np.median(df.loc[~df[col].isna(), col])\n",
    "        df.loc[df[col].isna(), col] = median\n",
    "\n",
    "    #Making new variables\n",
    "    vendor_size_dict = df['PURCHASE_FROM_VENDOR'].value_counts().to_dict()\n",
    "    df['VENDOR_SIZE'] = df['PURCHASE_FROM_VENDOR'].apply(lambda x: vendor_size_dict[x])\n",
    "    product_popularity_dict = df['PRODUCT_MARKET'].value_counts().to_dict()\n",
    "    df['PRODUCT_MARKET'].apply(lambda x: product_popularity_dict[x])\n",
    "    df.drop(columns = ['PURCHASE_FROM_VENDOR', 'PRODUCT_MARKET'], inplace = True)\n",
    "\n",
    "    if drop_unsure_cat:\n",
    "        df.drop(columns = ['PRODUCT_CLASSIFICATION', 'COMPANY_VENDOR_NUMBER', 'SHIP_FROM_VENDOR'], inplace = True) # also 'ORDER_DATE' but I drop that later\n",
    "\n",
    "    #After VIF on numeric columns only, dropping the first 4 highest VIFs (iteratively determined)\n",
    "    df.drop(columns = ['DAYS_BETWEEN_ORDER_AND_DUE_DATE', 'DIVISION_NUMBER', 'AVERAGE_PRODUCT_ORDER_QUANTITY_MARKET', 'AVERAGE_ORDER_CYCLE_CASES'], inplace = True)\n",
    "    \n",
    "    #Drop because I can't do much with a timestamp dtype, also I don't want to deal with time analysis\n",
    "    df.drop(columns = 'ORDER_DATE', inplace = True)\n",
    "    return df\n"
   ]
  },
  {
   "cell_type": "code",
   "execution_count": 4,
   "id": "ff6b2189",
   "metadata": {},
   "outputs": [],
   "source": [
    "# vif_input = preprocess(train_X).select_dtypes(include = 'number')\n",
    "# vif_input.drop(columns = ['DAYS_BETWEEN_ORDER_AND_DUE_DATE', 'DIVISION_NUMBER', 'AVERAGE_PRODUCT_ORDER_QUANTITY_MARKET', 'AVERAGE_ORDER_CYCLE_CASES', 'ORDER_QUANTITY_DEVIATION', 'PURCHASING_LEAD_TIME', 'COMPANY_VENDOR_NUMBER'], inplace = True)\n",
    "\n",
    "\n",
    "# vif_data = pd.DataFrame()\n",
    "# vif_data[\"Feature\"] = vif_input.columns\n",
    "# vif_data[\"VIF\"] = [variance_inflation_factor(vif_input.values, i) for i in range(vif_input.shape[1])]\n",
    "\n",
    "\n",
    "# vif_data.sort_values(by = 'VIF', ascending = False)"
   ]
  },
  {
   "cell_type": "code",
   "execution_count": 5,
   "id": "73dadf92",
   "metadata": {},
   "outputs": [],
   "source": [
    "# train_complete = pd.merge(train_X, train_y)\n",
    "train_complete = preprocess(train_X)"
   ]
  },
  {
   "cell_type": "markdown",
   "id": "730eaefd",
   "metadata": {},
   "source": [
    "## 2) Feature Engineering\n",
    "\n",
    "Techniques used to create meaningful features"
   ]
  },
  {
   "attachments": {},
   "cell_type": "markdown",
   "id": "9454cbb1",
   "metadata": {},
   "source": [
    "The code for these is included under the processing function. I am creating two new features:\n",
    "- VENDOR_SIZE: from PURCHASE_FROM_VENDOR ('the vendor from whom the product is purchased'), how large is the company from which the product is purchased?\n",
    "    - And I will drop the original PURCHASE_FROM_VENDOR column because I think these are just vendor IDs. Seems too large to be treated as categorical but also it would be inappropriate to treat this as continuous/numerical\n",
    "- PRODUCT_POPULARITY: from PRODUCT_MARKET 'A combination of DIV_NBR and PROD_NBR, representing a product in a specific market', but turn this into how common this specific product is in this specific market\n",
    "    - I also am dropping this column for the same reason as listed above"
   ]
  },
  {
   "cell_type": "markdown",
   "id": "665a03db",
   "metadata": {},
   "source": [
    "## 3) Developing the Model"
   ]
  },
  {
   "attachments": {},
   "cell_type": "markdown",
   "id": "733def36",
   "metadata": {},
   "source": [
    "First, I want to run a statsmodel.api model so that I can measure the VIF of all of the numeric columns. I want to drop the columns with the highest VIF in order to limit the effects of multicolinearity. I iteratively dropped the column with the highest VIF and then recalculated VIFs for each column. From this, I am dropping the first four columns ['DAYS_BETWEEN_ORDER_AND_DUE_DATE', 'DIVISION_NUMBER', 'AVERAGE_PRODUCT_ORDER_QUANTITY_MARKET', 'AVERAGE_ORDER_CYCLE_CASES']. This is included in the preprocessing() function.  \n",
    "\n",
    "Though in order for all numeric columns to have a VIF below 5, I would also have to drop ['ORDER_QUANTITY_DEVIATION', 'PURCHASING_LEAD_TIME', 'COMPANY_VENDOR_NUMBER']"
   ]
  },
  {
   "cell_type": "markdown",
   "id": "8e104de7",
   "metadata": {},
   "source": [
    "## 4) Model Fine Tuning\n",
    "\n",
    "Including cross-validation, regularization, and hyperparameter tuning, etc"
   ]
  },
  {
   "cell_type": "code",
   "execution_count": 6,
   "id": "79f09ac4",
   "metadata": {},
   "outputs": [],
   "source": [
    "cat_columns = ['ORDER_DAY_OF_WEEK', 'PURCHASE_ORDER_TYPE', 'TRANSIT_LEAD_TIME', 'GIVEN_TIME_TO_LEAD_RATIO', 'DUE_DATE_WEEKDAY']\n",
    "    #also 'DIVISION_NUMBER' but I dropped this from VIF\n",
    "def encode(df, train = False):\n",
    "    df_2 = df.copy()\n",
    "    ohe = OneHotEncoder(drop = 'first')\n",
    "    ohe.fit(df_2.loc[:, cat_columns])\n",
    "    encoded = pd.DataFrame(ohe.transform(df.loc[:, cat_columns]).toarray())\n",
    "    encoded.columns = ohe.get_feature_names_out()\n",
    "    # if train:\n",
    "    #     df_2.drop(columns = 'ON_TIME_AND_COMPLETE')\n",
    "    return pd.concat([df_2.drop(columns = cat_columns), encoded], axis = 1)\n",
    "    \n",
    "\n"
   ]
  },
  {
   "cell_type": "code",
   "execution_count": 10,
   "id": "143b6e9d",
   "metadata": {},
   "outputs": [],
   "source": [
    "encoded = encode(train_complete)\n",
    "poly = PolynomialFeatures(degree=3, include_bias=False)\n",
    "poly.fit(encoded)\n",
    "train_poly = pd.DataFrame(poly.transform(encoded))\n",
    "train_poly.columns = poly.get_feature_names_out()\n",
    "\n",
    "#Keep only the columns necessary, from l1 regularization\n",
    "with open('features_to_keep.txt') as features:\n",
    "    keep = [line.strip() for line in features.readlines()]\n",
    "train_poly = train_poly.loc[:, keep]"
   ]
  },
  {
   "cell_type": "code",
   "execution_count": 11,
   "id": "a4e06739",
   "metadata": {},
   "outputs": [],
   "source": [
    "scaler = StandardScaler().fit(train_poly)\n",
    "train_scaled = pd.DataFrame(scaler.transform(train_poly))\n",
    "train_scaled.columns = scaler.get_feature_names_out()"
   ]
  },
  {
   "cell_type": "code",
   "execution_count": 12,
   "id": "0cd74ea8",
   "metadata": {},
   "outputs": [],
   "source": [
    "kf = KFold(n_splits=10, shuffle=True, random_state=42)"
   ]
  },
  {
   "cell_type": "code",
   "execution_count": 13,
   "id": "10a7f5df",
   "metadata": {},
   "outputs": [],
   "source": [
    "model = LogisticRegressionCV(Cs = np.linspace(0.0001, 10, 20), solver = 'saga', penalty = 'elasticnet', max_iter = 1000, \n",
    "                             l1_ratios=np.linspace(0, 1, 20)).fit(train_scaled, train_y['ON_TIME_AND_COMPLETE'])"
   ]
  },
  {
   "cell_type": "code",
   "execution_count": 16,
   "id": "d8c20121",
   "metadata": {},
   "outputs": [
    {
     "data": {
      "text/plain": [
       "array([0.52641053])"
      ]
     },
     "execution_count": 16,
     "metadata": {},
     "output_type": "execute_result"
    }
   ],
   "source": [
    "model.C_"
   ]
  },
  {
   "cell_type": "code",
   "execution_count": 17,
   "id": "65d8036d",
   "metadata": {},
   "outputs": [
    {
     "data": {
      "text/plain": [
       "array([0.21052632])"
      ]
     },
     "execution_count": 17,
     "metadata": {},
     "output_type": "execute_result"
    }
   ],
   "source": [
    "model.l1_ratio_"
   ]
  },
  {
   "cell_type": "code",
   "execution_count": 25,
   "id": "cfd00524",
   "metadata": {},
   "outputs": [],
   "source": [
    "from sklearn.metrics import roc_curve, auc, roc_auc_score"
   ]
  },
  {
   "cell_type": "code",
   "execution_count": 26,
   "id": "fdb7e695",
   "metadata": {},
   "outputs": [],
   "source": [
    "#Creating a ROC-AUC curve\n",
    "y_scores = model.predict_proba(train_scaled)[:, 1]\n",
    "fpr, tpr, thresholds = roc_curve(train_y['ON_TIME_AND_COMPLETE'], y_scores)\n",
    "roc_auc = auc(fpr, tpr)"
   ]
  },
  {
   "cell_type": "code",
   "execution_count": 27,
   "id": "516bf2bd",
   "metadata": {},
   "outputs": [
    {
     "data": {
      "image/png": "[encoded data removed]",
      "text/plain": [
       "<Figure size 800x600 with 1 Axes>"
      ]
     },
     "metadata": {},
     "output_type": "display_data"
    },
    {
     "name": "stdout",
     "output_type": "stream",
     "text": [
      "ROC-AUC Score: 0.79\n"
     ]
    }
   ],
   "source": [
    "plt.figure(figsize=(8,6))\n",
    "plt.plot(fpr, tpr, color='blue', lw=2, label=f'ROC Curve (AUC = {roc_auc:.2f})')\n",
    "plt.plot([0, 1], [0, 1], color='gray', linestyle='--')  # Random classifier baseline\n",
    "plt.xlim([0.0, 1.0])\n",
    "plt.ylim([0.0, 1.05])\n",
    "plt.xlabel('False Positive Rate (FPR)')\n",
    "plt.ylabel('True Positive Rate (TPR)')\n",
    "plt.title('Receiver Operating Characteristic (ROC) Curve')\n",
    "plt.legend(loc=\"lower right\")\n",
    "plt.show()\n",
    "\n",
    "# Print AUC Score\n",
    "print(f'ROC-AUC Score: {roc_auc:.2f}')"
   ]
  },
  {
   "cell_type": "code",
   "execution_count": 14,
   "id": "1c166666",
   "metadata": {},
   "outputs": [
    {
     "data": {
      "text/html": [
       "<div>\n",
       "<style scoped>\n",
       "    .dataframe tbody tr th:only-of-type {\n",
       "        vertical-align: middle;\n",
       "    }\n",
       "\n",
       "    .dataframe tbody tr th {\n",
       "        vertical-align: top;\n",
       "    }\n",
       "\n",
       "    .dataframe thead th {\n",
       "        text-align: right;\n",
       "    }\n",
       "</style>\n",
       "<table border=\"1\" class=\"dataframe\">\n",
       "  <thead>\n",
       "    <tr style=\"text-align: right;\">\n",
       "      <th></th>\n",
       "      <th>Feature</th>\n",
       "      <th>Val</th>\n",
       "      <th>Abs_Val</th>\n",
       "    </tr>\n",
       "  </thead>\n",
       "  <tbody>\n",
       "    <tr>\n",
       "      <th>5</th>\n",
       "      <td>VENDOR_SIZE DUE_DATE_WEEKDAY_4</td>\n",
       "      <td>0.718144</td>\n",
       "      <td>0.718144</td>\n",
       "    </tr>\n",
       "    <tr>\n",
       "      <th>28</th>\n",
       "      <td>VENDOR_SIZE DUE_DATE_WEEKDAY_4^2</td>\n",
       "      <td>0.718144</td>\n",
       "      <td>0.718144</td>\n",
       "    </tr>\n",
       "    <tr>\n",
       "      <th>18</th>\n",
       "      <td>PURCHASING_LEAD_TIME VENDOR_SIZE DUE_DATE_WEEK...</td>\n",
       "      <td>-0.689007</td>\n",
       "      <td>0.689007</td>\n",
       "    </tr>\n",
       "    <tr>\n",
       "      <th>26</th>\n",
       "      <td>VENDOR_SIZE PURCHASE_ORDER_TYPE_1 DUE_DATE_WEE...</td>\n",
       "      <td>-0.601067</td>\n",
       "      <td>0.601067</td>\n",
       "    </tr>\n",
       "    <tr>\n",
       "      <th>25</th>\n",
       "      <td>VENDOR_SIZE^2 DUE_DATE_WEEKDAY_4</td>\n",
       "      <td>-0.564529</td>\n",
       "      <td>0.564529</td>\n",
       "    </tr>\n",
       "    <tr>\n",
       "      <th>0</th>\n",
       "      <td>COMPANY_VENDOR_NUMBER PRODUCT_CLASSIFICATION</td>\n",
       "      <td>-0.517017</td>\n",
       "      <td>0.517017</td>\n",
       "    </tr>\n",
       "    <tr>\n",
       "      <th>2</th>\n",
       "      <td>ORDER_QUANTITY_DEVIATION PURCHASING_LEAD_TIME</td>\n",
       "      <td>-0.461969</td>\n",
       "      <td>0.461969</td>\n",
       "    </tr>\n",
       "    <tr>\n",
       "      <th>4</th>\n",
       "      <td>AVERAGE_ORDER_CYCLE_DAYS^2</td>\n",
       "      <td>-0.454838</td>\n",
       "      <td>0.454838</td>\n",
       "    </tr>\n",
       "    <tr>\n",
       "      <th>7</th>\n",
       "      <td>COMPANY_VENDOR_NUMBER PRODUCT_CLASSIFICATION^2</td>\n",
       "      <td>0.399552</td>\n",
       "      <td>0.399552</td>\n",
       "    </tr>\n",
       "    <tr>\n",
       "      <th>16</th>\n",
       "      <td>ORDER_QUANTITY_DEVIATION AVERAGE_ORDER_CYCLE_D...</td>\n",
       "      <td>0.390114</td>\n",
       "      <td>0.390114</td>\n",
       "    </tr>\n",
       "    <tr>\n",
       "      <th>8</th>\n",
       "      <td>COMPANY_VENDOR_NUMBER PRODUCT_CLASSIFICATION O...</td>\n",
       "      <td>0.296061</td>\n",
       "      <td>0.296061</td>\n",
       "    </tr>\n",
       "    <tr>\n",
       "      <th>12</th>\n",
       "      <td>PRODUCT_CLASSIFICATION VENDOR_SIZE DUE_DATE_WE...</td>\n",
       "      <td>-0.240163</td>\n",
       "      <td>0.240163</td>\n",
       "    </tr>\n",
       "    <tr>\n",
       "      <th>22</th>\n",
       "      <td>AVERAGE_VENDOR_ORDER_CYCLE_DAYS VENDOR_SIZE DU...</td>\n",
       "      <td>0.236681</td>\n",
       "      <td>0.236681</td>\n",
       "    </tr>\n",
       "    <tr>\n",
       "      <th>15</th>\n",
       "      <td>DISTANCE_IN_MILES PURCHASE_ORDER_TYPE_1 DUE_DA...</td>\n",
       "      <td>-0.231138</td>\n",
       "      <td>0.231138</td>\n",
       "    </tr>\n",
       "    <tr>\n",
       "      <th>30</th>\n",
       "      <td>ORDER_DAY_OF_WEEK_6 GIVEN_TIME_TO_LEAD_RATIO_o...</td>\n",
       "      <td>-0.227960</td>\n",
       "      <td>0.227960</td>\n",
       "    </tr>\n",
       "    <tr>\n",
       "      <th>9</th>\n",
       "      <td>COMPANY_VENDOR_NUMBER PRODUCT_CLASSIFICATION A...</td>\n",
       "      <td>0.184589</td>\n",
       "      <td>0.184589</td>\n",
       "    </tr>\n",
       "    <tr>\n",
       "      <th>21</th>\n",
       "      <td>GIVEN_TIME_TO_LEAD_TIME_RATIO VENDOR_SIZE DUE_...</td>\n",
       "      <td>0.155613</td>\n",
       "      <td>0.155613</td>\n",
       "    </tr>\n",
       "    <tr>\n",
       "      <th>29</th>\n",
       "      <td>ORDER_DAY_OF_WEEK_6 PURCHASE_ORDER_TYPE_1 DUE_...</td>\n",
       "      <td>-0.153744</td>\n",
       "      <td>0.153744</td>\n",
       "    </tr>\n",
       "    <tr>\n",
       "      <th>23</th>\n",
       "      <td>AVERAGE_ORDER_CYCLE_DAYS^3</td>\n",
       "      <td>-0.087322</td>\n",
       "      <td>0.087322</td>\n",
       "    </tr>\n",
       "    <tr>\n",
       "      <th>20</th>\n",
       "      <td>PURCHASING_LEAD_TIME PURCHASE_ORDER_TYPE_1 DUE...</td>\n",
       "      <td>-0.084265</td>\n",
       "      <td>0.084265</td>\n",
       "    </tr>\n",
       "    <tr>\n",
       "      <th>27</th>\n",
       "      <td>VENDOR_SIZE GIVEN_TIME_TO_LEAD_RATIO_one DUE_D...</td>\n",
       "      <td>0.075900</td>\n",
       "      <td>0.075900</td>\n",
       "    </tr>\n",
       "    <tr>\n",
       "      <th>13</th>\n",
       "      <td>PRODUCT_CLASSIFICATION PURCHASE_ORDER_TYPE_1 T...</td>\n",
       "      <td>0.073324</td>\n",
       "      <td>0.073324</td>\n",
       "    </tr>\n",
       "    <tr>\n",
       "      <th>1</th>\n",
       "      <td>PRODUCT_CLASSIFICATION TRANSIT_LEAD_TIME_zero</td>\n",
       "      <td>0.073324</td>\n",
       "      <td>0.073324</td>\n",
       "    </tr>\n",
       "    <tr>\n",
       "      <th>11</th>\n",
       "      <td>PRODUCT_CLASSIFICATION AVERAGE_VENDOR_ORDER_CY...</td>\n",
       "      <td>0.073324</td>\n",
       "      <td>0.073324</td>\n",
       "    </tr>\n",
       "    <tr>\n",
       "      <th>14</th>\n",
       "      <td>PRODUCT_CLASSIFICATION TRANSIT_LEAD_TIME_zero^2</td>\n",
       "      <td>0.073324</td>\n",
       "      <td>0.073324</td>\n",
       "    </tr>\n",
       "    <tr>\n",
       "      <th>24</th>\n",
       "      <td>AVERAGE_ORDER_CYCLE_DAYS^2 PURCHASE_ORDER_TYPE_1</td>\n",
       "      <td>0.072007</td>\n",
       "      <td>0.072007</td>\n",
       "    </tr>\n",
       "    <tr>\n",
       "      <th>6</th>\n",
       "      <td>COMPANY_VENDOR_NUMBER^2 PRODUCT_CLASSIFICATION</td>\n",
       "      <td>0.068281</td>\n",
       "      <td>0.068281</td>\n",
       "    </tr>\n",
       "    <tr>\n",
       "      <th>19</th>\n",
       "      <td>PURCHASING_LEAD_TIME PURCHASE_ORDER_TYPE_1^2</td>\n",
       "      <td>-0.054911</td>\n",
       "      <td>0.054911</td>\n",
       "    </tr>\n",
       "    <tr>\n",
       "      <th>3</th>\n",
       "      <td>PURCHASING_LEAD_TIME PURCHASE_ORDER_TYPE_1</td>\n",
       "      <td>-0.054911</td>\n",
       "      <td>0.054911</td>\n",
       "    </tr>\n",
       "    <tr>\n",
       "      <th>10</th>\n",
       "      <td>PRODUCT_CLASSIFICATION^2 TRANSIT_LEAD_TIME_zero</td>\n",
       "      <td>0.051063</td>\n",
       "      <td>0.051063</td>\n",
       "    </tr>\n",
       "    <tr>\n",
       "      <th>17</th>\n",
       "      <td>ORDER_QUANTITY_DEVIATION VENDOR_SIZE DUE_DATE_...</td>\n",
       "      <td>-0.024893</td>\n",
       "      <td>0.024893</td>\n",
       "    </tr>\n",
       "  </tbody>\n",
       "</table>\n",
       "</div>"
      ],
      "text/plain": [
       "                                              Feature       Val   Abs_Val\n",
       "5                      VENDOR_SIZE DUE_DATE_WEEKDAY_4  0.718144  0.718144\n",
       "28                   VENDOR_SIZE DUE_DATE_WEEKDAY_4^2  0.718144  0.718144\n",
       "18  PURCHASING_LEAD_TIME VENDOR_SIZE DUE_DATE_WEEK... -0.689007  0.689007\n",
       "26  VENDOR_SIZE PURCHASE_ORDER_TYPE_1 DUE_DATE_WEE... -0.601067  0.601067\n",
       "25                   VENDOR_SIZE^2 DUE_DATE_WEEKDAY_4 -0.564529  0.564529\n",
       "0        COMPANY_VENDOR_NUMBER PRODUCT_CLASSIFICATION -0.517017  0.517017\n",
       "2       ORDER_QUANTITY_DEVIATION PURCHASING_LEAD_TIME -0.461969  0.461969\n",
       "4                          AVERAGE_ORDER_CYCLE_DAYS^2 -0.454838  0.454838\n",
       "7      COMPANY_VENDOR_NUMBER PRODUCT_CLASSIFICATION^2  0.399552  0.399552\n",
       "16  ORDER_QUANTITY_DEVIATION AVERAGE_ORDER_CYCLE_D...  0.390114  0.390114\n",
       "8   COMPANY_VENDOR_NUMBER PRODUCT_CLASSIFICATION O...  0.296061  0.296061\n",
       "12  PRODUCT_CLASSIFICATION VENDOR_SIZE DUE_DATE_WE... -0.240163  0.240163\n",
       "22  AVERAGE_VENDOR_ORDER_CYCLE_DAYS VENDOR_SIZE DU...  0.236681  0.236681\n",
       "15  DISTANCE_IN_MILES PURCHASE_ORDER_TYPE_1 DUE_DA... -0.231138  0.231138\n",
       "30  ORDER_DAY_OF_WEEK_6 GIVEN_TIME_TO_LEAD_RATIO_o... -0.227960  0.227960\n",
       "9   COMPANY_VENDOR_NUMBER PRODUCT_CLASSIFICATION A...  0.184589  0.184589\n",
       "21  GIVEN_TIME_TO_LEAD_TIME_RATIO VENDOR_SIZE DUE_...  0.155613  0.155613\n",
       "29  ORDER_DAY_OF_WEEK_6 PURCHASE_ORDER_TYPE_1 DUE_... -0.153744  0.153744\n",
       "23                         AVERAGE_ORDER_CYCLE_DAYS^3 -0.087322  0.087322\n",
       "20  PURCHASING_LEAD_TIME PURCHASE_ORDER_TYPE_1 DUE... -0.084265  0.084265\n",
       "27  VENDOR_SIZE GIVEN_TIME_TO_LEAD_RATIO_one DUE_D...  0.075900  0.075900\n",
       "13  PRODUCT_CLASSIFICATION PURCHASE_ORDER_TYPE_1 T...  0.073324  0.073324\n",
       "1       PRODUCT_CLASSIFICATION TRANSIT_LEAD_TIME_zero  0.073324  0.073324\n",
       "11  PRODUCT_CLASSIFICATION AVERAGE_VENDOR_ORDER_CY...  0.073324  0.073324\n",
       "14    PRODUCT_CLASSIFICATION TRANSIT_LEAD_TIME_zero^2  0.073324  0.073324\n",
       "24   AVERAGE_ORDER_CYCLE_DAYS^2 PURCHASE_ORDER_TYPE_1  0.072007  0.072007\n",
       "6      COMPANY_VENDOR_NUMBER^2 PRODUCT_CLASSIFICATION  0.068281  0.068281\n",
       "19       PURCHASING_LEAD_TIME PURCHASE_ORDER_TYPE_1^2 -0.054911  0.054911\n",
       "3          PURCHASING_LEAD_TIME PURCHASE_ORDER_TYPE_1 -0.054911  0.054911\n",
       "10    PRODUCT_CLASSIFICATION^2 TRANSIT_LEAD_TIME_zero  0.051063  0.051063\n",
       "17  ORDER_QUANTITY_DEVIATION VENDOR_SIZE DUE_DATE_... -0.024893  0.024893"
      ]
     },
     "execution_count": 14,
     "metadata": {},
     "output_type": "execute_result"
    }
   ],
   "source": [
    "coeffs = pd.DataFrame()\n",
    "coeffs['Feature'] = model.feature_names_in_\n",
    "coeffs['Val'] = model.coef_[0]\n",
    "coeffs['Abs_Val'] = np.abs(coeffs['Val'])\n",
    "coeffs.sort_values(by = 'Abs_Val', ascending = False)"
   ]
  },
  {
   "attachments": {},
   "cell_type": "markdown",
   "id": "8ad8542f",
   "metadata": {},
   "source": [
    "For feature selection, I ran LogisticRegressionCV with 5-fold splitting, a C-value of 0.001, 'sava' solver, 'l1' penalty, and a max_iter of 1000. I saved all of the features that weren't regularized down to 0 in a file called features_to_keep.txt. Only 32 of the 5455 original features (3rd order polynomial terms and their interactions) are maintained.\n",
    "The model from this process has a training accuracy of 70.9, test accuracy of 70.89.\n",
    "\n",
    "Next, rerunning LogisticRegressionCV with elastic net penalties, l1 ratios of [0.25, 0.5, 0.75] and 8 different options for C values, and a 10-fold splitting strategy. The best C-value was 0.1 and the best l1-ratio was 0.5 (equal l1 and l2 penalties).\n",
    "This model has a training accuracy of 0.728 and a test accuracy of 0.7415\n",
    "\n",
    "Next, having more options for Cs (np.linspace(0.0001, 10, 20)) and l1_ratios (l1_ratios=np.linspace(0, 1, 20)). The best C-value is 1.57903158 and the best l1-ratio is 0 (all l2 penalty).\n",
    "\n",
    "This model has a training accuracy of 0.729 and a test accuracy of 0.7444.\n",
    "Note that the feature VENDOR_SIZE that I created has the largest coefficient here.\n",
    "\n",
    "In determining the optimal threshold, I tried model.predict_proba on 100 different threshold values, finding that 0.49 is the optimal threshold but only nominally better than 0.5 – so I will be keeping the default threshold of 0.5 for the sake of convenience.\n",
    "\n",
    "Retrying this cross-validation, the best C-value is 0.52641053 and the l1-ratio is 0.21052632. The training accuracy is 0.7222 and the test accuracy is 0.735."
   ]
  },
  {
   "cell_type": "code",
   "execution_count": 18,
   "id": "23be8623",
   "metadata": {},
   "outputs": [
    {
     "name": "stdout",
     "output_type": "stream",
     "text": [
      "Train Accuracy: 0.7222358301082643\n"
     ]
    }
   ],
   "source": [
    "# y_train_pred = pipeline.predict(train_transformed)\n",
    "y_train_pred = model.predict(train_scaled)\n",
    "accuracy = accuracy_score(train_y['ON_TIME_AND_COMPLETE'], y_train_pred)\n",
    "print(\"Train Accuracy:\", accuracy)"
   ]
  },
  {
   "cell_type": "code",
   "execution_count": 23,
   "id": "01f29fe7",
   "metadata": {},
   "outputs": [
    {
     "data": {
      "text/html": [
       "<div>\n",
       "<style scoped>\n",
       "    .dataframe tbody tr th:only-of-type {\n",
       "        vertical-align: middle;\n",
       "    }\n",
       "\n",
       "    .dataframe tbody tr th {\n",
       "        vertical-align: top;\n",
       "    }\n",
       "\n",
       "    .dataframe thead th {\n",
       "        text-align: right;\n",
       "    }\n",
       "</style>\n",
       "<table border=\"1\" class=\"dataframe\">\n",
       "  <thead>\n",
       "    <tr style=\"text-align: right;\">\n",
       "      <th></th>\n",
       "      <th>Threshold</th>\n",
       "      <th>Accuracy</th>\n",
       "    </tr>\n",
       "  </thead>\n",
       "  <tbody>\n",
       "    <tr>\n",
       "      <th>51</th>\n",
       "      <td>0.509091</td>\n",
       "      <td>0.724097</td>\n",
       "    </tr>\n",
       "    <tr>\n",
       "      <th>52</th>\n",
       "      <td>0.515152</td>\n",
       "      <td>0.723412</td>\n",
       "    </tr>\n",
       "    <tr>\n",
       "      <th>53</th>\n",
       "      <td>0.521212</td>\n",
       "      <td>0.722824</td>\n",
       "    </tr>\n",
       "    <tr>\n",
       "      <th>50</th>\n",
       "      <td>0.503030</td>\n",
       "      <td>0.722628</td>\n",
       "    </tr>\n",
       "    <tr>\n",
       "      <th>54</th>\n",
       "      <td>0.527273</td>\n",
       "      <td>0.722285</td>\n",
       "    </tr>\n",
       "  </tbody>\n",
       "</table>\n",
       "</div>"
      ],
      "text/plain": [
       "    Threshold  Accuracy\n",
       "51   0.509091  0.724097\n",
       "52   0.515152  0.723412\n",
       "53   0.521212  0.722824\n",
       "50   0.503030  0.722628\n",
       "54   0.527273  0.722285"
      ]
     },
     "execution_count": 23,
     "metadata": {},
     "output_type": "execute_result"
    }
   ],
   "source": [
    "thresh_accuracies = []\n",
    "for threshold in np.linspace(0.2, 0.8, 100):\n",
    "    predicted_probs = model.predict_proba(train_scaled)[:, 1]\n",
    "    train_predict = (predicted_probs >= threshold).astype(int)\n",
    "    thresh_accuracies.append(accuracy_score(train_y['ON_TIME_AND_COMPLETE'], train_predict))\n",
    "\n",
    "accuracies = pd.DataFrame()\n",
    "accuracies['Threshold'] = np.linspace(0.2, 0.8, 100)\n",
    "accuracies['Accuracy'] = thresh_accuracies\n",
    "\n",
    "accuracies.sort_values(by = 'Accuracy', ascending = False).head()"
   ]
  },
  {
   "attachments": {},
   "cell_type": "markdown",
   "id": "d94bd36a",
   "metadata": {},
   "source": [
    "# Generate Prediction"
   ]
  },
  {
   "cell_type": "code",
   "execution_count": 19,
   "id": "9a2dbce6",
   "metadata": {},
   "outputs": [],
   "source": [
    "#Apply the same transformations to the test set\n",
    "test_preprocessed = preprocess(public_private_X)\n",
    "#Issue that PURCHASE_ORDER_DUE_DATE has duplicate edges\n",
    "    #Originally 50 bins, I'm making it 25 but the labels are counting by 2\n",
    "test_encoded = encode(test_preprocessed)\n",
    "test_poly = pd.DataFrame(poly.transform(test_encoded))\n",
    "test_poly.columns = poly.get_feature_names_out()\n",
    "test_poly = test_poly.loc[:, keep]\n",
    "\n",
    "test_scaled = pd.DataFrame(scaler.transform(test_poly))\n",
    "test_scaled.columns = scaler.get_feature_names_out()"
   ]
  },
  {
   "cell_type": "code",
   "execution_count": 20,
   "id": "55a84ae8",
   "metadata": {},
   "outputs": [],
   "source": [
    "y_pred_test = model.predict(test_scaled)\n",
    "\n",
    "submission = pd.DataFrame()\n",
    "submission['ID'] = public_private_X['ID']\n",
    "submission['ON_TIME_AND_COMPLETE'] = y_pred_test\n",
    "submission.to_csv('Submissions/submission7.csv', index = False)"
   ]
  },
  {
   "cell_type": "markdown",
   "id": "29eccea2",
   "metadata": {},
   "source": [
    "## 5) Key Takeaways (Short Reflection)\n",
    "\n",
    "* Provide a brief summary of your key takeaways from this prediction problem.\n",
    "* Reflect on challenges faced and lessons learned from your model building process."
   ]
  },
  {
   "attachments": {},
   "cell_type": "markdown",
   "id": "76adbff4",
   "metadata": {},
   "source": [
    "This prediction problem was an excellent practice in combining many of the concepts that we have learned in this class. From it, I could combine the steps of building a model and the metrics that assist with each. I now feel like I have a better understanding of VIF, of cross-validation, of polynomial features, and of threshold tuning."
   ]
  }
 ],
 "metadata": {
  "kernelspec": {
   "display_name": "Python (cenv2)",
   "language": "python",
   "name": "cenv2"
  },
  "language_info": {
   "codemirror_mode": {
    "name": "ipython",
    "version": 3
   },
   "file_extension": ".py",
   "mimetype": "text/x-python",
   "name": "python",
   "nbconvert_exporter": "python",
   "pygments_lexer": "ipython3",
   "version": "3.13.1"
  },
  "vscode": {
   "interpreter": {
    "hash": "932102ea4fa8933b3e2008fcbe1f3368b8a80d12647fe512c75f961423a67a74"
   }
  }
 },
 "nbformat": 4,
 "nbformat_minor": 5
}
